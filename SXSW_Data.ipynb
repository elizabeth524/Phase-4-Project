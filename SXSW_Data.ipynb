{
 "cells": [
  {
   "cell_type": "markdown",
   "metadata": {},
   "source": [
    "# Understanding South by Southwest Tweet Content"
   ]
  },
  {
   "cell_type": "markdown",
   "metadata": {},
   "source": [
    "## Overview"
   ]
  },
  {
   "cell_type": "markdown",
   "metadata": {},
   "source": [
    "Analysis and natural language processing in order to create a Multinomial Naive Bayes model that will accurately predict the sentiment of a tweet."
   ]
  },
  {
   "cell_type": "markdown",
   "metadata": {},
   "source": [
    "## Business Problem"
   ]
  },
  {
   "cell_type": "markdown",
   "metadata": {},
   "source": [
    "South by Southwest (SXSW) is an annual conference and festival that showcases innovations in technology and the creative arts.  In order to enhance the experience for future attendees, this company is looking to analyze the sentiments of tweets from previous years. \n",
    "\n",
    "Our task is to build a model that can correctly identify the sentiment of a tweet based on it's text. Not only will this give them insight on the public opinion on the conference and the brands in attendance, but it will allow them to identify the sentiment of future tweets in order to understand how a current conference is progressing."
   ]
  },
  {
   "cell_type": "markdown",
   "metadata": {},
   "source": [
    "## Dataset"
   ]
  },
  {
   "cell_type": "markdown",
   "metadata": {},
   "source": [
    "We will be using a dataset from CrowdFlower that includes 9000 tweets relating to previous South by Southwest events.  The tweets are labeled as 'Negative', 'Positive', or 'No Emotion' and identify the brand or product they are related to."
   ]
  },
  {
   "cell_type": "markdown",
   "metadata": {},
   "source": [
    "# Data Understanding"
   ]
  },
  {
   "cell_type": "code",
   "execution_count": 269,
   "metadata": {
    "ExecuteTime": {
     "end_time": "2022-09-28T02:14:32.520853Z",
     "start_time": "2022-09-28T02:14:32.497860Z"
    }
   },
   "outputs": [],
   "source": [
    "# Import necessary libraries and packages\n",
    "import pandas as pd\n",
    "from nltk.corpus import stopwords\n",
    "import string\n",
    "from sklearn.model_selection import train_test_split\n",
    "from nltk.tokenize import RegexpTokenizer\n",
    "import matplotlib.pyplot as plt\n",
    "from matplotlib.ticker import MaxNLocator\n",
    "import seaborn as sns\n",
    "import nltk\n",
    "from nltk import FreqDist\n",
    "from nltk.stem.wordnet import WordNetLemmatizer\n",
    "from sklearn.feature_extraction.text import TfidfVectorizer\n",
    "from sklearn.naive_bayes import MultinomialNB\n",
    "from sklearn.model_selection import cross_val_score\n",
    "from wordcloud import WordCloud\n",
    "import warnings\n",
    "warnings.filterwarnings('ignore')"
   ]
  },
  {
   "cell_type": "markdown",
   "metadata": {},
   "source": [
    "## Data Cleaning"
   ]
  },
  {
   "cell_type": "code",
   "execution_count": 270,
   "metadata": {
    "ExecuteTime": {
     "end_time": "2022-09-28T02:14:34.636613Z",
     "start_time": "2022-09-28T02:14:34.551607Z"
    },
    "scrolled": true
   },
   "outputs": [
    {
     "data": {
      "text/html": [
       "<div>\n",
       "<style scoped>\n",
       "    .dataframe tbody tr th:only-of-type {\n",
       "        vertical-align: middle;\n",
       "    }\n",
       "\n",
       "    .dataframe tbody tr th {\n",
       "        vertical-align: top;\n",
       "    }\n",
       "\n",
       "    .dataframe thead th {\n",
       "        text-align: right;\n",
       "    }\n",
       "</style>\n",
       "<table border=\"1\" class=\"dataframe\">\n",
       "  <thead>\n",
       "    <tr style=\"text-align: right;\">\n",
       "      <th></th>\n",
       "      <th>tweet_text</th>\n",
       "      <th>emotion_in_tweet_is_directed_at</th>\n",
       "      <th>is_there_an_emotion_directed_at_a_brand_or_product</th>\n",
       "    </tr>\n",
       "  </thead>\n",
       "  <tbody>\n",
       "    <tr>\n",
       "      <th>0</th>\n",
       "      <td>.@wesley83 I have a 3G iPhone. After 3 hrs twe...</td>\n",
       "      <td>iPhone</td>\n",
       "      <td>Negative emotion</td>\n",
       "    </tr>\n",
       "    <tr>\n",
       "      <th>1</th>\n",
       "      <td>@jessedee Know about @fludapp ? Awesome iPad/i...</td>\n",
       "      <td>iPad or iPhone App</td>\n",
       "      <td>Positive emotion</td>\n",
       "    </tr>\n",
       "    <tr>\n",
       "      <th>2</th>\n",
       "      <td>@swonderlin Can not wait for #iPad 2 also. The...</td>\n",
       "      <td>iPad</td>\n",
       "      <td>Positive emotion</td>\n",
       "    </tr>\n",
       "    <tr>\n",
       "      <th>3</th>\n",
       "      <td>@sxsw I hope this year's festival isn't as cra...</td>\n",
       "      <td>iPad or iPhone App</td>\n",
       "      <td>Negative emotion</td>\n",
       "    </tr>\n",
       "    <tr>\n",
       "      <th>4</th>\n",
       "      <td>@sxtxstate great stuff on Fri #SXSW: Marissa M...</td>\n",
       "      <td>Google</td>\n",
       "      <td>Positive emotion</td>\n",
       "    </tr>\n",
       "  </tbody>\n",
       "</table>\n",
       "</div>"
      ],
      "text/plain": [
       "                                          tweet_text  \\\n",
       "0  .@wesley83 I have a 3G iPhone. After 3 hrs twe...   \n",
       "1  @jessedee Know about @fludapp ? Awesome iPad/i...   \n",
       "2  @swonderlin Can not wait for #iPad 2 also. The...   \n",
       "3  @sxsw I hope this year's festival isn't as cra...   \n",
       "4  @sxtxstate great stuff on Fri #SXSW: Marissa M...   \n",
       "\n",
       "  emotion_in_tweet_is_directed_at  \\\n",
       "0                          iPhone   \n",
       "1              iPad or iPhone App   \n",
       "2                            iPad   \n",
       "3              iPad or iPhone App   \n",
       "4                          Google   \n",
       "\n",
       "  is_there_an_emotion_directed_at_a_brand_or_product  \n",
       "0                                   Negative emotion  \n",
       "1                                   Positive emotion  \n",
       "2                                   Positive emotion  \n",
       "3                                   Negative emotion  \n",
       "4                                   Positive emotion  "
      ]
     },
     "execution_count": 270,
     "metadata": {},
     "output_type": "execute_result"
    }
   ],
   "source": [
    "# Download dataset and view the basic format\n",
    "df = pd.read_csv('Data/data_from_tweets.csv', encoding='latin-1')\n",
    "df.head()"
   ]
  },
  {
   "cell_type": "code",
   "execution_count": 271,
   "metadata": {
    "ExecuteTime": {
     "end_time": "2022-09-28T02:14:34.870999Z",
     "start_time": "2022-09-28T02:14:34.861438Z"
    }
   },
   "outputs": [],
   "source": [
    "# Rename columns for ease of use\n",
    "df = df.rename(columns = {'tweet_text':'text',\n",
    "                          'emotion_in_tweet_is_directed_at':'product',\n",
    "                          'is_there_an_emotion_directed_at_a_brand_or_product':'sentiment'})"
   ]
  },
  {
   "cell_type": "code",
   "execution_count": 272,
   "metadata": {
    "ExecuteTime": {
     "end_time": "2022-09-28T02:14:35.098314Z",
     "start_time": "2022-09-28T02:14:35.063783Z"
    }
   },
   "outputs": [
    {
     "name": "stdout",
     "output_type": "stream",
     "text": [
      "<class 'pandas.core.frame.DataFrame'>\n",
      "RangeIndex: 9093 entries, 0 to 9092\n",
      "Data columns (total 3 columns):\n",
      " #   Column     Non-Null Count  Dtype \n",
      "---  ------     --------------  ----- \n",
      " 0   text       9092 non-null   object\n",
      " 1   product    3291 non-null   object\n",
      " 2   sentiment  9093 non-null   object\n",
      "dtypes: object(3)\n",
      "memory usage: 213.2+ KB\n"
     ]
    }
   ],
   "source": [
    "# Check overall dataframe info\n",
    "df.info()"
   ]
  },
  {
   "cell_type": "code",
   "execution_count": 273,
   "metadata": {
    "ExecuteTime": {
     "end_time": "2022-09-28T02:14:35.268338Z",
     "start_time": "2022-09-28T02:14:35.256163Z"
    }
   },
   "outputs": [
    {
     "data": {
      "text/plain": [
       "text            1\n",
       "product      5802\n",
       "sentiment       0\n",
       "dtype: int64"
      ]
     },
     "execution_count": 273,
     "metadata": {},
     "output_type": "execute_result"
    }
   ],
   "source": [
    "# Check for missing values\n",
    "df.isna().sum()"
   ]
  },
  {
   "cell_type": "code",
   "execution_count": 274,
   "metadata": {
    "ExecuteTime": {
     "end_time": "2022-09-28T02:14:35.457249Z",
     "start_time": "2022-09-28T02:14:35.443148Z"
    }
   },
   "outputs": [],
   "source": [
    "# Drop the one entry with a missing text value\n",
    "df.dropna(subset=['text'], inplace=True)"
   ]
  },
  {
   "cell_type": "code",
   "execution_count": 275,
   "metadata": {
    "ExecuteTime": {
     "end_time": "2022-09-28T02:14:35.642419Z",
     "start_time": "2022-09-28T02:14:35.628746Z"
    },
    "scrolled": true
   },
   "outputs": [
    {
     "data": {
      "text/plain": [
       "text            0\n",
       "product      5801\n",
       "sentiment       0\n",
       "dtype: int64"
      ]
     },
     "execution_count": 275,
     "metadata": {},
     "output_type": "execute_result"
    }
   ],
   "source": [
    "df.isna().sum()"
   ]
  },
  {
   "cell_type": "code",
   "execution_count": 276,
   "metadata": {
    "ExecuteTime": {
     "end_time": "2022-09-28T02:14:35.864363Z",
     "start_time": "2022-09-28T02:14:35.858869Z"
    }
   },
   "outputs": [],
   "source": [
    "# Reset the dataframe index\n",
    "df.reset_index(drop=True, inplace=True)"
   ]
  },
  {
   "cell_type": "code",
   "execution_count": 277,
   "metadata": {
    "ExecuteTime": {
     "end_time": "2022-09-28T02:14:36.075852Z",
     "start_time": "2022-09-28T02:14:36.062490Z"
    },
    "scrolled": true
   },
   "outputs": [
    {
     "data": {
      "text/plain": [
       "iPad                               946\n",
       "Apple                              661\n",
       "iPad or iPhone App                 470\n",
       "Google                             430\n",
       "iPhone                             297\n",
       "Other Google product or service    293\n",
       "Android App                         81\n",
       "Android                             78\n",
       "Other Apple product or service      35\n",
       "Name: product, dtype: int64"
      ]
     },
     "execution_count": 277,
     "metadata": {},
     "output_type": "execute_result"
    }
   ],
   "source": [
    "# Explore product values\n",
    "df['product'].value_counts()"
   ]
  },
  {
   "cell_type": "code",
   "execution_count": 278,
   "metadata": {
    "ExecuteTime": {
     "end_time": "2022-09-28T02:14:36.308402Z",
     "start_time": "2022-09-28T02:14:36.298753Z"
    }
   },
   "outputs": [
    {
     "data": {
      "text/plain": [
       "array(['iPhone', 'iPad or iPhone App', 'iPad', 'Google', nan, 'Android',\n",
       "       'Apple', 'Android App', 'Other Google product or service',\n",
       "       'Other Apple product or service'], dtype=object)"
      ]
     },
     "execution_count": 278,
     "metadata": {},
     "output_type": "execute_result"
    }
   ],
   "source": [
    "df['product'].unique()"
   ]
  },
  {
   "cell_type": "code",
   "execution_count": 279,
   "metadata": {
    "ExecuteTime": {
     "end_time": "2022-09-28T02:14:36.802500Z",
     "start_time": "2022-09-28T02:14:36.510301Z"
    }
   },
   "outputs": [],
   "source": [
    "# Rename product values so we are only working with Apple or Google\n",
    "for index in range(len(df)):\n",
    "    if df['product'][index] in ['iPhone', 'iPad or iPhone App', \n",
    "                                'iPad', 'Apple', \n",
    "                                'Other Apple product or service']:\n",
    "        df['product'][index] = 'Apple'\n",
    "    elif df['product'][index] in ['Google', 'Android', \n",
    "                                  'Android App', \n",
    "                                  'Other Google product or service']:\n",
    "        df['product'][index] = 'Google'\n",
    "    else:\n",
    "        pass"
   ]
  },
  {
   "cell_type": "code",
   "execution_count": 280,
   "metadata": {
    "ExecuteTime": {
     "end_time": "2022-09-28T02:14:36.807245Z",
     "start_time": "2022-09-28T02:14:36.803615Z"
    }
   },
   "outputs": [
    {
     "data": {
      "text/plain": [
       "Apple     2409\n",
       "Google     882\n",
       "Name: product, dtype: int64"
      ]
     },
     "execution_count": 280,
     "metadata": {},
     "output_type": "execute_result"
    }
   ],
   "source": [
    "df['product'].value_counts()"
   ]
  },
  {
   "cell_type": "code",
   "execution_count": 281,
   "metadata": {
    "ExecuteTime": {
     "end_time": "2022-09-28T02:14:36.907959Z",
     "start_time": "2022-09-28T02:14:36.903667Z"
    }
   },
   "outputs": [
    {
     "data": {
      "text/plain": [
       "5801"
      ]
     },
     "execution_count": 281,
     "metadata": {},
     "output_type": "execute_result"
    }
   ],
   "source": [
    "df['product'].isna().sum()"
   ]
  },
  {
   "cell_type": "markdown",
   "metadata": {},
   "source": [
    "Since we are missing so many product labels, we will iterate through the tweet texts to find words pertaining to either Apple or Google. This will help us to identify many of our missing labels."
   ]
  },
  {
   "cell_type": "code",
   "execution_count": 282,
   "metadata": {
    "ExecuteTime": {
     "end_time": "2022-09-28T02:14:37.470933Z",
     "start_time": "2022-09-28T02:14:37.451523Z"
    }
   },
   "outputs": [],
   "source": [
    "# Normally, this step would occue in Language Processing\n",
    "# However, we want to capture as many entries as we can to identify the product\n",
    "df['text'] = df['text'].str.lower()"
   ]
  },
  {
   "cell_type": "code",
   "execution_count": 283,
   "metadata": {
    "ExecuteTime": {
     "end_time": "2022-09-28T02:14:38.424406Z",
     "start_time": "2022-09-28T02:14:37.696686Z"
    }
   },
   "outputs": [],
   "source": [
    "google_words = ['android', '#google', 'google']\n",
    "apple_words = ['iphone', 'ipad', 'mac', 'apple', '#apple']\n",
    "\n",
    "for index in range(len(df)):\n",
    "    if any(word in df['text'][index] for word in google_words) == True:\n",
    "        df['product'][index] = 'Google'\n",
    "    else:\n",
    "        pass\n",
    "for index in range(len(df)):\n",
    "    if any(word in df['text'][index] for word in apple_words) == True:\n",
    "        df['product'][index] = 'Apple'\n",
    "    else:\n",
    "        pass"
   ]
  },
  {
   "cell_type": "code",
   "execution_count": 284,
   "metadata": {
    "ExecuteTime": {
     "end_time": "2022-09-28T02:14:38.429863Z",
     "start_time": "2022-09-28T02:14:38.425583Z"
    }
   },
   "outputs": [
    {
     "data": {
      "text/plain": [
       "Apple     5569\n",
       "Google    2767\n",
       "Name: product, dtype: int64"
      ]
     },
     "execution_count": 284,
     "metadata": {},
     "output_type": "execute_result"
    }
   ],
   "source": [
    "df['product'].value_counts()"
   ]
  },
  {
   "cell_type": "code",
   "execution_count": 285,
   "metadata": {
    "ExecuteTime": {
     "end_time": "2022-09-28T02:14:38.434271Z",
     "start_time": "2022-09-28T02:14:38.431474Z"
    }
   },
   "outputs": [
    {
     "data": {
      "text/plain": [
       "756"
      ]
     },
     "execution_count": 285,
     "metadata": {},
     "output_type": "execute_result"
    }
   ],
   "source": [
    "df['product'].isna().sum()"
   ]
  },
  {
   "cell_type": "markdown",
   "metadata": {},
   "source": [
    "This step has successfully reduced our missing values from 5801 to 756."
   ]
  },
  {
   "cell_type": "code",
   "execution_count": 286,
   "metadata": {
    "ExecuteTime": {
     "end_time": "2022-09-28T02:14:39.042733Z",
     "start_time": "2022-09-28T02:14:39.030329Z"
    }
   },
   "outputs": [],
   "source": [
    "# Fill the remaining missing values with 'Unknown'\n",
    "df.fillna(value='Unknown', inplace=True)"
   ]
  },
  {
   "cell_type": "code",
   "execution_count": 287,
   "metadata": {
    "ExecuteTime": {
     "end_time": "2022-09-28T02:14:39.302540Z",
     "start_time": "2022-09-28T02:14:39.291764Z"
    }
   },
   "outputs": [
    {
     "data": {
      "text/plain": [
       "0"
      ]
     },
     "execution_count": 287,
     "metadata": {},
     "output_type": "execute_result"
    }
   ],
   "source": [
    "df['product'].isna().sum()"
   ]
  },
  {
   "cell_type": "code",
   "execution_count": 288,
   "metadata": {
    "ExecuteTime": {
     "end_time": "2022-09-28T02:14:39.540435Z",
     "start_time": "2022-09-28T02:14:39.527947Z"
    },
    "scrolled": true
   },
   "outputs": [
    {
     "data": {
      "text/plain": [
       "No emotion toward brand or product    5388\n",
       "Positive emotion                      2978\n",
       "Negative emotion                       570\n",
       "I can't tell                           156\n",
       "Name: sentiment, dtype: int64"
      ]
     },
     "execution_count": 288,
     "metadata": {},
     "output_type": "execute_result"
    }
   ],
   "source": [
    "# Check the values for sentiment\n",
    "df['sentiment'].value_counts()"
   ]
  },
  {
   "cell_type": "code",
   "execution_count": 289,
   "metadata": {
    "ExecuteTime": {
     "end_time": "2022-09-28T02:14:39.884822Z",
     "start_time": "2022-09-28T02:14:39.870775Z"
    }
   },
   "outputs": [],
   "source": [
    "# Remove entries where the sentiment is unknown\n",
    "df = df[df['sentiment'] != \"I can't tell\"]"
   ]
  },
  {
   "cell_type": "code",
   "execution_count": 290,
   "metadata": {
    "ExecuteTime": {
     "end_time": "2022-09-28T02:14:40.302125Z",
     "start_time": "2022-09-28T02:14:40.291485Z"
    }
   },
   "outputs": [
    {
     "data": {
      "text/plain": [
       "No emotion toward brand or product    5388\n",
       "Positive emotion                      2978\n",
       "Negative emotion                       570\n",
       "Name: sentiment, dtype: int64"
      ]
     },
     "execution_count": 290,
     "metadata": {},
     "output_type": "execute_result"
    }
   ],
   "source": [
    "df['sentiment'].value_counts()"
   ]
  },
  {
   "cell_type": "markdown",
   "metadata": {},
   "source": [
    "## Explore Cleaned Data"
   ]
  },
  {
   "cell_type": "code",
   "execution_count": 291,
   "metadata": {
    "ExecuteTime": {
     "end_time": "2022-09-28T02:14:41.012688Z",
     "start_time": "2022-09-28T02:14:40.993741Z"
    },
    "scrolled": false
   },
   "outputs": [
    {
     "name": "stdout",
     "output_type": "stream",
     "text": [
      "<class 'pandas.core.frame.DataFrame'>\n",
      "Int64Index: 8936 entries, 0 to 9091\n",
      "Data columns (total 3 columns):\n",
      " #   Column     Non-Null Count  Dtype \n",
      "---  ------     --------------  ----- \n",
      " 0   text       8936 non-null   object\n",
      " 1   product    8936 non-null   object\n",
      " 2   sentiment  8936 non-null   object\n",
      "dtypes: object(3)\n",
      "memory usage: 279.2+ KB\n"
     ]
    }
   ],
   "source": [
    "df.info()"
   ]
  },
  {
   "cell_type": "code",
   "execution_count": 292,
   "metadata": {
    "ExecuteTime": {
     "end_time": "2022-09-28T02:14:41.463607Z",
     "start_time": "2022-09-28T02:14:41.438335Z"
    },
    "scrolled": true
   },
   "outputs": [
    {
     "data": {
      "text/html": [
       "<div>\n",
       "<style scoped>\n",
       "    .dataframe tbody tr th:only-of-type {\n",
       "        vertical-align: middle;\n",
       "    }\n",
       "\n",
       "    .dataframe tbody tr th {\n",
       "        vertical-align: top;\n",
       "    }\n",
       "\n",
       "    .dataframe thead th {\n",
       "        text-align: right;\n",
       "    }\n",
       "</style>\n",
       "<table border=\"1\" class=\"dataframe\">\n",
       "  <thead>\n",
       "    <tr style=\"text-align: right;\">\n",
       "      <th></th>\n",
       "      <th></th>\n",
       "      <th>text</th>\n",
       "    </tr>\n",
       "    <tr>\n",
       "      <th>product</th>\n",
       "      <th>sentiment</th>\n",
       "      <th></th>\n",
       "    </tr>\n",
       "  </thead>\n",
       "  <tbody>\n",
       "    <tr>\n",
       "      <th rowspan=\"3\" valign=\"top\">Apple</th>\n",
       "      <th>Negative emotion</th>\n",
       "      <td>425</td>\n",
       "    </tr>\n",
       "    <tr>\n",
       "      <th>No emotion toward brand or product</th>\n",
       "      <td>2886</td>\n",
       "    </tr>\n",
       "    <tr>\n",
       "      <th>Positive emotion</th>\n",
       "      <td>2158</td>\n",
       "    </tr>\n",
       "    <tr>\n",
       "      <th rowspan=\"3\" valign=\"top\">Google</th>\n",
       "      <th>Negative emotion</th>\n",
       "      <td>144</td>\n",
       "    </tr>\n",
       "    <tr>\n",
       "      <th>No emotion toward brand or product</th>\n",
       "      <td>1766</td>\n",
       "    </tr>\n",
       "    <tr>\n",
       "      <th>Positive emotion</th>\n",
       "      <td>807</td>\n",
       "    </tr>\n",
       "    <tr>\n",
       "      <th rowspan=\"3\" valign=\"top\">Unknown</th>\n",
       "      <th>Negative emotion</th>\n",
       "      <td>1</td>\n",
       "    </tr>\n",
       "    <tr>\n",
       "      <th>No emotion toward brand or product</th>\n",
       "      <td>736</td>\n",
       "    </tr>\n",
       "    <tr>\n",
       "      <th>Positive emotion</th>\n",
       "      <td>13</td>\n",
       "    </tr>\n",
       "  </tbody>\n",
       "</table>\n",
       "</div>"
      ],
      "text/plain": [
       "                                            text\n",
       "product sentiment                               \n",
       "Apple   Negative emotion                     425\n",
       "        No emotion toward brand or product  2886\n",
       "        Positive emotion                    2158\n",
       "Google  Negative emotion                     144\n",
       "        No emotion toward brand or product  1766\n",
       "        Positive emotion                     807\n",
       "Unknown Negative emotion                       1\n",
       "        No emotion toward brand or product   736\n",
       "        Positive emotion                      13"
      ]
     },
     "execution_count": 292,
     "metadata": {},
     "output_type": "execute_result"
    }
   ],
   "source": [
    "# View sentiment of texts for Apple vs Google\n",
    "pd.DataFrame(df.groupby(['product', 'sentiment'])['text'].count())"
   ]
  },
  {
   "cell_type": "code",
   "execution_count": 293,
   "metadata": {
    "ExecuteTime": {
     "end_time": "2022-09-28T02:14:41.814218Z",
     "start_time": "2022-09-28T02:14:41.802041Z"
    }
   },
   "outputs": [
    {
     "data": {
      "text/plain": [
       "No emotion toward brand or product    5388\n",
       "Positive emotion                      2978\n",
       "Negative emotion                       570\n",
       "Name: sentiment, dtype: int64"
      ]
     },
     "execution_count": 293,
     "metadata": {},
     "output_type": "execute_result"
    }
   ],
   "source": [
    "df['sentiment'].value_counts()"
   ]
  },
  {
   "cell_type": "code",
   "execution_count": 294,
   "metadata": {
    "ExecuteTime": {
     "end_time": "2022-09-28T02:14:43.022227Z",
     "start_time": "2022-09-28T02:14:42.890331Z"
    }
   },
   "outputs": [
    {
     "data": {
      "image/png": "[encoded data removed]",
      "text/plain": [
       "<Figure size 432x288 with 1 Axes>"
      ]
     },
     "metadata": {
      "needs_background": "light"
     },
     "output_type": "display_data"
    }
   ],
   "source": [
    "# View overall distribution of tweets by sentiment\n",
    "fig, ax = plt.subplots()\n",
    "\n",
    "classes = ['Negative emotion', \n",
    "           'No emotion toward brand or product', \n",
    "           'Positive emotion']\n",
    "sns.countplot(x='sentiment', data=df, order=classes)\n",
    "\n",
    "ax.set(xticklabels=['Negative', 'No emotion', 'Positive'], \n",
    "       xlabel='Sentiment', ylabel='Tweet Count', \n",
    "       title='Distribution of Tweets by Sentiment')\n",
    "\n",
    "plt.show()"
   ]
  },
  {
   "cell_type": "markdown",
   "metadata": {},
   "source": [
    "The overwhelming majority of tweets have no emotion as their label.  By randomly assigning 'No Emotion' to all the tweets, we would be correct 60% of the time."
   ]
  },
  {
   "cell_type": "code",
   "execution_count": 295,
   "metadata": {
    "ExecuteTime": {
     "end_time": "2022-09-28T02:14:43.813469Z",
     "start_time": "2022-09-28T02:14:43.693747Z"
    }
   },
   "outputs": [
    {
     "data": {
      "image/png": "[encoded data removed]",
      "text/plain": [
       "<Figure size 432x288 with 1 Axes>"
      ]
     },
     "metadata": {
      "needs_background": "light"
     },
     "output_type": "display_data"
    }
   ],
   "source": [
    "# View distribution of tweets by brand and senitment\n",
    "brands = df.loc[(df['product']!='Unknown') & \n",
    "                (df['sentiment']!='No emotion toward brand or product')]\n",
    "\n",
    "fig, ax = plt.subplots()\n",
    "sns.countplot(x='product', data=brands, hue='sentiment')\n",
    "\n",
    "ax.set(title='Distribution of Tweets by Brand and Sentiment', \n",
    "       xticklabels=['Apple', 'Google'], \n",
    "       xlabel='Brand', ylabel='Tweet Count')\n",
    "ax.legend(['Negative', 'Positive'])\n",
    "\n",
    "plt.show()"
   ]
  },
  {
   "cell_type": "markdown",
   "metadata": {},
   "source": [
    "This plot shows that Apple was tweeted more than Google.  However, the percentage of positive vs negative tweets for both are fairly comparable."
   ]
  },
  {
   "cell_type": "markdown",
   "metadata": {},
   "source": [
    "## Train Test Split"
   ]
  },
  {
   "cell_type": "code",
   "execution_count": 296,
   "metadata": {
    "ExecuteTime": {
     "end_time": "2022-09-28T02:14:44.713442Z",
     "start_time": "2022-09-28T02:14:44.703785Z"
    }
   },
   "outputs": [],
   "source": [
    "# Create data and target dataframes\n",
    "X = df.drop(['sentiment'], axis=1)\n",
    "y = df['sentiment']"
   ]
  },
  {
   "cell_type": "code",
   "execution_count": 297,
   "metadata": {
    "ExecuteTime": {
     "end_time": "2022-09-28T02:14:44.953508Z",
     "start_time": "2022-09-28T02:14:44.919059Z"
    }
   },
   "outputs": [],
   "source": [
    "# Train test split\n",
    "# Specify to stratify since our target is imbalanced\n",
    "X_train, X_test, y_train, y_test = train_test_split(X, y, test_size=.3, \n",
    "                                                    random_state=42, \n",
    "                                                    stratify=y)"
   ]
  },
  {
   "cell_type": "code",
   "execution_count": 298,
   "metadata": {
    "ExecuteTime": {
     "end_time": "2022-09-28T02:14:45.199912Z",
     "start_time": "2022-09-28T02:14:45.182004Z"
    }
   },
   "outputs": [
    {
     "name": "stdout",
     "output_type": "stream",
     "text": [
      "<class 'pandas.core.frame.DataFrame'>\n",
      "Int64Index: 6255 entries, 298 to 1594\n",
      "Data columns (total 2 columns):\n",
      " #   Column   Non-Null Count  Dtype \n",
      "---  ------   --------------  ----- \n",
      " 0   text     6255 non-null   object\n",
      " 1   product  6255 non-null   object\n",
      "dtypes: object(2)\n",
      "memory usage: 146.6+ KB\n"
     ]
    }
   ],
   "source": [
    "X_train.info()"
   ]
  },
  {
   "cell_type": "markdown",
   "metadata": {},
   "source": [
    "## Build a Baseline Model"
   ]
  },
  {
   "cell_type": "code",
   "execution_count": 299,
   "metadata": {
    "ExecuteTime": {
     "end_time": "2022-09-28T02:14:46.057586Z",
     "start_time": "2022-09-28T02:14:45.897992Z"
    }
   },
   "outputs": [
    {
     "data": {
      "text/html": [
       "<div>\n",
       "<style scoped>\n",
       "    .dataframe tbody tr th:only-of-type {\n",
       "        vertical-align: middle;\n",
       "    }\n",
       "\n",
       "    .dataframe tbody tr th {\n",
       "        vertical-align: top;\n",
       "    }\n",
       "\n",
       "    .dataframe thead th {\n",
       "        text-align: right;\n",
       "    }\n",
       "</style>\n",
       "<table border=\"1\" class=\"dataframe\">\n",
       "  <thead>\n",
       "    <tr style=\"text-align: right;\">\n",
       "      <th></th>\n",
       "      <th>and</th>\n",
       "      <th>apple</th>\n",
       "      <th>at</th>\n",
       "      <th>for</th>\n",
       "      <th>google</th>\n",
       "      <th>in</th>\n",
       "      <th>ipad</th>\n",
       "      <th>iphone</th>\n",
       "      <th>is</th>\n",
       "      <th>link</th>\n",
       "      <th>mention</th>\n",
       "      <th>of</th>\n",
       "      <th>on</th>\n",
       "      <th>quot</th>\n",
       "      <th>rt</th>\n",
       "      <th>store</th>\n",
       "      <th>sxsw</th>\n",
       "      <th>the</th>\n",
       "      <th>to</th>\n",
       "      <th>up</th>\n",
       "    </tr>\n",
       "  </thead>\n",
       "  <tbody>\n",
       "    <tr>\n",
       "      <th>0</th>\n",
       "      <td>0.000000</td>\n",
       "      <td>0.583447</td>\n",
       "      <td>0.000000</td>\n",
       "      <td>0.0</td>\n",
       "      <td>0.000000</td>\n",
       "      <td>0.0</td>\n",
       "      <td>0.000000</td>\n",
       "      <td>0.0</td>\n",
       "      <td>0.0</td>\n",
       "      <td>0.000000</td>\n",
       "      <td>0.387202</td>\n",
       "      <td>0.000000</td>\n",
       "      <td>0.0</td>\n",
       "      <td>0.000000</td>\n",
       "      <td>0.000000</td>\n",
       "      <td>0.672194</td>\n",
       "      <td>0.240456</td>\n",
       "      <td>0.000000</td>\n",
       "      <td>0.000000</td>\n",
       "      <td>0.000000</td>\n",
       "    </tr>\n",
       "    <tr>\n",
       "      <th>1</th>\n",
       "      <td>0.000000</td>\n",
       "      <td>0.000000</td>\n",
       "      <td>0.345653</td>\n",
       "      <td>0.0</td>\n",
       "      <td>0.000000</td>\n",
       "      <td>0.0</td>\n",
       "      <td>0.000000</td>\n",
       "      <td>0.0</td>\n",
       "      <td>0.0</td>\n",
       "      <td>0.279743</td>\n",
       "      <td>0.509626</td>\n",
       "      <td>0.000000</td>\n",
       "      <td>0.0</td>\n",
       "      <td>0.000000</td>\n",
       "      <td>0.000000</td>\n",
       "      <td>0.442362</td>\n",
       "      <td>0.158241</td>\n",
       "      <td>0.307327</td>\n",
       "      <td>0.000000</td>\n",
       "      <td>0.476839</td>\n",
       "    </tr>\n",
       "    <tr>\n",
       "      <th>2</th>\n",
       "      <td>0.000000</td>\n",
       "      <td>0.000000</td>\n",
       "      <td>0.000000</td>\n",
       "      <td>0.0</td>\n",
       "      <td>0.000000</td>\n",
       "      <td>0.0</td>\n",
       "      <td>0.729866</td>\n",
       "      <td>0.0</td>\n",
       "      <td>0.0</td>\n",
       "      <td>0.000000</td>\n",
       "      <td>0.000000</td>\n",
       "      <td>0.000000</td>\n",
       "      <td>0.0</td>\n",
       "      <td>0.000000</td>\n",
       "      <td>0.000000</td>\n",
       "      <td>0.000000</td>\n",
       "      <td>0.312932</td>\n",
       "      <td>0.607758</td>\n",
       "      <td>0.000000</td>\n",
       "      <td>0.000000</td>\n",
       "    </tr>\n",
       "    <tr>\n",
       "      <th>3</th>\n",
       "      <td>0.000000</td>\n",
       "      <td>0.000000</td>\n",
       "      <td>0.000000</td>\n",
       "      <td>0.0</td>\n",
       "      <td>0.446104</td>\n",
       "      <td>0.0</td>\n",
       "      <td>0.000000</td>\n",
       "      <td>0.0</td>\n",
       "      <td>0.0</td>\n",
       "      <td>0.340061</td>\n",
       "      <td>0.000000</td>\n",
       "      <td>0.000000</td>\n",
       "      <td>0.0</td>\n",
       "      <td>0.000000</td>\n",
       "      <td>0.000000</td>\n",
       "      <td>0.000000</td>\n",
       "      <td>0.192361</td>\n",
       "      <td>0.000000</td>\n",
       "      <td>0.805200</td>\n",
       "      <td>0.000000</td>\n",
       "    </tr>\n",
       "    <tr>\n",
       "      <th>4</th>\n",
       "      <td>0.000000</td>\n",
       "      <td>0.000000</td>\n",
       "      <td>0.443590</td>\n",
       "      <td>0.0</td>\n",
       "      <td>0.470954</td>\n",
       "      <td>0.0</td>\n",
       "      <td>0.000000</td>\n",
       "      <td>0.0</td>\n",
       "      <td>0.0</td>\n",
       "      <td>0.359005</td>\n",
       "      <td>0.327011</td>\n",
       "      <td>0.000000</td>\n",
       "      <td>0.0</td>\n",
       "      <td>0.000000</td>\n",
       "      <td>0.000000</td>\n",
       "      <td>0.000000</td>\n",
       "      <td>0.406154</td>\n",
       "      <td>0.000000</td>\n",
       "      <td>0.425027</td>\n",
       "      <td>0.000000</td>\n",
       "    </tr>\n",
       "    <tr>\n",
       "      <th>...</th>\n",
       "      <td>...</td>\n",
       "      <td>...</td>\n",
       "      <td>...</td>\n",
       "      <td>...</td>\n",
       "      <td>...</td>\n",
       "      <td>...</td>\n",
       "      <td>...</td>\n",
       "      <td>...</td>\n",
       "      <td>...</td>\n",
       "      <td>...</td>\n",
       "      <td>...</td>\n",
       "      <td>...</td>\n",
       "      <td>...</td>\n",
       "      <td>...</td>\n",
       "      <td>...</td>\n",
       "      <td>...</td>\n",
       "      <td>...</td>\n",
       "      <td>...</td>\n",
       "      <td>...</td>\n",
       "      <td>...</td>\n",
       "    </tr>\n",
       "    <tr>\n",
       "      <th>6250</th>\n",
       "      <td>0.000000</td>\n",
       "      <td>0.000000</td>\n",
       "      <td>0.000000</td>\n",
       "      <td>0.0</td>\n",
       "      <td>0.623374</td>\n",
       "      <td>0.0</td>\n",
       "      <td>0.000000</td>\n",
       "      <td>0.0</td>\n",
       "      <td>0.0</td>\n",
       "      <td>0.000000</td>\n",
       "      <td>0.432845</td>\n",
       "      <td>0.000000</td>\n",
       "      <td>0.0</td>\n",
       "      <td>0.000000</td>\n",
       "      <td>0.593124</td>\n",
       "      <td>0.000000</td>\n",
       "      <td>0.268801</td>\n",
       "      <td>0.000000</td>\n",
       "      <td>0.000000</td>\n",
       "      <td>0.000000</td>\n",
       "    </tr>\n",
       "    <tr>\n",
       "      <th>6251</th>\n",
       "      <td>0.000000</td>\n",
       "      <td>0.388882</td>\n",
       "      <td>0.350085</td>\n",
       "      <td>0.0</td>\n",
       "      <td>0.000000</td>\n",
       "      <td>0.0</td>\n",
       "      <td>0.000000</td>\n",
       "      <td>0.0</td>\n",
       "      <td>0.0</td>\n",
       "      <td>0.000000</td>\n",
       "      <td>0.000000</td>\n",
       "      <td>0.447725</td>\n",
       "      <td>0.0</td>\n",
       "      <td>0.000000</td>\n",
       "      <td>0.000000</td>\n",
       "      <td>0.000000</td>\n",
       "      <td>0.160270</td>\n",
       "      <td>0.622535</td>\n",
       "      <td>0.335435</td>\n",
       "      <td>0.000000</td>\n",
       "    </tr>\n",
       "    <tr>\n",
       "      <th>6252</th>\n",
       "      <td>0.482216</td>\n",
       "      <td>0.420425</td>\n",
       "      <td>0.000000</td>\n",
       "      <td>0.0</td>\n",
       "      <td>0.000000</td>\n",
       "      <td>0.0</td>\n",
       "      <td>0.000000</td>\n",
       "      <td>0.0</td>\n",
       "      <td>0.0</td>\n",
       "      <td>0.000000</td>\n",
       "      <td>0.279013</td>\n",
       "      <td>0.000000</td>\n",
       "      <td>0.0</td>\n",
       "      <td>0.592731</td>\n",
       "      <td>0.000000</td>\n",
       "      <td>0.000000</td>\n",
       "      <td>0.173270</td>\n",
       "      <td>0.000000</td>\n",
       "      <td>0.362643</td>\n",
       "      <td>0.000000</td>\n",
       "    </tr>\n",
       "    <tr>\n",
       "      <th>6253</th>\n",
       "      <td>0.000000</td>\n",
       "      <td>0.000000</td>\n",
       "      <td>0.000000</td>\n",
       "      <td>0.0</td>\n",
       "      <td>0.000000</td>\n",
       "      <td>0.0</td>\n",
       "      <td>0.754136</td>\n",
       "      <td>0.0</td>\n",
       "      <td>0.0</td>\n",
       "      <td>0.571604</td>\n",
       "      <td>0.000000</td>\n",
       "      <td>0.000000</td>\n",
       "      <td>0.0</td>\n",
       "      <td>0.000000</td>\n",
       "      <td>0.000000</td>\n",
       "      <td>0.000000</td>\n",
       "      <td>0.323338</td>\n",
       "      <td>0.000000</td>\n",
       "      <td>0.000000</td>\n",
       "      <td>0.000000</td>\n",
       "    </tr>\n",
       "    <tr>\n",
       "      <th>6254</th>\n",
       "      <td>0.000000</td>\n",
       "      <td>0.602124</td>\n",
       "      <td>0.271026</td>\n",
       "      <td>0.0</td>\n",
       "      <td>0.000000</td>\n",
       "      <td>0.0</td>\n",
       "      <td>0.000000</td>\n",
       "      <td>0.0</td>\n",
       "      <td>0.0</td>\n",
       "      <td>0.219346</td>\n",
       "      <td>0.199799</td>\n",
       "      <td>0.000000</td>\n",
       "      <td>0.0</td>\n",
       "      <td>0.000000</td>\n",
       "      <td>0.273782</td>\n",
       "      <td>0.346856</td>\n",
       "      <td>0.124077</td>\n",
       "      <td>0.240975</td>\n",
       "      <td>0.259685</td>\n",
       "      <td>0.373890</td>\n",
       "    </tr>\n",
       "  </tbody>\n",
       "</table>\n",
       "<p>6255 rows × 20 columns</p>\n",
       "</div>"
      ],
      "text/plain": [
       "           and     apple        at  for    google   in      ipad  iphone   is  \\\n",
       "0     0.000000  0.583447  0.000000  0.0  0.000000  0.0  0.000000     0.0  0.0   \n",
       "1     0.000000  0.000000  0.345653  0.0  0.000000  0.0  0.000000     0.0  0.0   \n",
       "2     0.000000  0.000000  0.000000  0.0  0.000000  0.0  0.729866     0.0  0.0   \n",
       "3     0.000000  0.000000  0.000000  0.0  0.446104  0.0  0.000000     0.0  0.0   \n",
       "4     0.000000  0.000000  0.443590  0.0  0.470954  0.0  0.000000     0.0  0.0   \n",
       "...        ...       ...       ...  ...       ...  ...       ...     ...  ...   \n",
       "6250  0.000000  0.000000  0.000000  0.0  0.623374  0.0  0.000000     0.0  0.0   \n",
       "6251  0.000000  0.388882  0.350085  0.0  0.000000  0.0  0.000000     0.0  0.0   \n",
       "6252  0.482216  0.420425  0.000000  0.0  0.000000  0.0  0.000000     0.0  0.0   \n",
       "6253  0.000000  0.000000  0.000000  0.0  0.000000  0.0  0.754136     0.0  0.0   \n",
       "6254  0.000000  0.602124  0.271026  0.0  0.000000  0.0  0.000000     0.0  0.0   \n",
       "\n",
       "          link   mention        of   on      quot        rt     store  \\\n",
       "0     0.000000  0.387202  0.000000  0.0  0.000000  0.000000  0.672194   \n",
       "1     0.279743  0.509626  0.000000  0.0  0.000000  0.000000  0.442362   \n",
       "2     0.000000  0.000000  0.000000  0.0  0.000000  0.000000  0.000000   \n",
       "3     0.340061  0.000000  0.000000  0.0  0.000000  0.000000  0.000000   \n",
       "4     0.359005  0.327011  0.000000  0.0  0.000000  0.000000  0.000000   \n",
       "...        ...       ...       ...  ...       ...       ...       ...   \n",
       "6250  0.000000  0.432845  0.000000  0.0  0.000000  0.593124  0.000000   \n",
       "6251  0.000000  0.000000  0.447725  0.0  0.000000  0.000000  0.000000   \n",
       "6252  0.000000  0.279013  0.000000  0.0  0.592731  0.000000  0.000000   \n",
       "6253  0.571604  0.000000  0.000000  0.0  0.000000  0.000000  0.000000   \n",
       "6254  0.219346  0.199799  0.000000  0.0  0.000000  0.273782  0.346856   \n",
       "\n",
       "          sxsw       the        to        up  \n",
       "0     0.240456  0.000000  0.000000  0.000000  \n",
       "1     0.158241  0.307327  0.000000  0.476839  \n",
       "2     0.312932  0.607758  0.000000  0.000000  \n",
       "3     0.192361  0.000000  0.805200  0.000000  \n",
       "4     0.406154  0.000000  0.425027  0.000000  \n",
       "...        ...       ...       ...       ...  \n",
       "6250  0.268801  0.000000  0.000000  0.000000  \n",
       "6251  0.160270  0.622535  0.335435  0.000000  \n",
       "6252  0.173270  0.000000  0.362643  0.000000  \n",
       "6253  0.323338  0.000000  0.000000  0.000000  \n",
       "6254  0.124077  0.240975  0.259685  0.373890  \n",
       "\n",
       "[6255 rows x 20 columns]"
      ]
     },
     "execution_count": 299,
     "metadata": {},
     "output_type": "execute_result"
    }
   ],
   "source": [
    "# Vectorize X_train text\n",
    "tfidf = TfidfVectorizer(max_features=20)\n",
    "X_train_vectorized = tfidf.fit_transform(X_train['text'])\n",
    "pd.DataFrame.sparse.from_spmatrix(X_train_vectorized, \n",
    "                                  columns=tfidf.get_feature_names())"
   ]
  },
  {
   "cell_type": "code",
   "execution_count": 300,
   "metadata": {
    "ExecuteTime": {
     "end_time": "2022-09-28T02:14:46.534717Z",
     "start_time": "2022-09-28T02:14:46.432778Z"
    }
   },
   "outputs": [
    {
     "data": {
      "text/plain": [
       "array([0.60351719, 0.60271783, 0.60271783, 0.60271783, 0.60271783])"
      ]
     },
     "execution_count": 300,
     "metadata": {},
     "output_type": "execute_result"
    }
   ],
   "source": [
    "#Multinomial Bayes Baseline Model\n",
    "baseline_model = MultinomialNB()\n",
    "\n",
    "# Evaluate the model on X_train_vectorized and y_train\n",
    "baseline_cv = cross_val_score(baseline_model, X_train_vectorized, y_train)\n",
    "baseline_cv"
   ]
  },
  {
   "cell_type": "markdown",
   "metadata": {},
   "source": [
    "This baseline model is performing right around 60%, approximately the same as if we assigned 'No Emotion' to all tweets.  We will attempt to increase this accuracy through natural language processing and feature engineering."
   ]
  },
  {
   "cell_type": "markdown",
   "metadata": {},
   "source": [
    "# Natural Language Processing"
   ]
  },
  {
   "cell_type": "markdown",
   "metadata": {},
   "source": [
    "## Tokenize and Remove Punctuation"
   ]
  },
  {
   "cell_type": "code",
   "execution_count": 301,
   "metadata": {
    "ExecuteTime": {
     "end_time": "2022-09-28T02:14:47.749013Z",
     "start_time": "2022-09-28T02:14:47.745764Z"
    }
   },
   "outputs": [],
   "source": [
    "# Create a basic token pattern to remove punctuation when tokenizing\n",
    "basic_token_pattern = r\"(?u)\\b\\w\\w+\\b\"\n",
    "tokenizer = RegexpTokenizer(basic_token_pattern)"
   ]
  },
  {
   "cell_type": "code",
   "execution_count": 302,
   "metadata": {
    "ExecuteTime": {
     "end_time": "2022-09-28T02:14:48.361862Z",
     "start_time": "2022-09-28T02:14:48.289062Z"
    }
   },
   "outputs": [],
   "source": [
    "# Create a new columns for tokenized text\n",
    "X_train['text_tokenized'] = X_train['text'].apply(tokenizer.tokenize)"
   ]
  },
  {
   "cell_type": "code",
   "execution_count": 303,
   "metadata": {
    "ExecuteTime": {
     "end_time": "2022-09-28T02:14:49.064433Z",
     "start_time": "2022-09-28T02:14:49.044623Z"
    }
   },
   "outputs": [
    {
     "data": {
      "text/html": [
       "<div>\n",
       "<style scoped>\n",
       "    .dataframe tbody tr th:only-of-type {\n",
       "        vertical-align: middle;\n",
       "    }\n",
       "\n",
       "    .dataframe tbody tr th {\n",
       "        vertical-align: top;\n",
       "    }\n",
       "\n",
       "    .dataframe thead th {\n",
       "        text-align: right;\n",
       "    }\n",
       "</style>\n",
       "<table border=\"1\" class=\"dataframe\">\n",
       "  <thead>\n",
       "    <tr style=\"text-align: right;\">\n",
       "      <th></th>\n",
       "      <th>text</th>\n",
       "      <th>product</th>\n",
       "      <th>text_tokenized</th>\n",
       "    </tr>\n",
       "  </thead>\n",
       "  <tbody>\n",
       "    <tr>\n",
       "      <th>298</th>\n",
       "      <td>temporary apple store opens @mention 6th &amp;amp;...</td>\n",
       "      <td>Apple</td>\n",
       "      <td>[temporary, apple, store, opens, mention, 6th,...</td>\n",
       "    </tr>\n",
       "    <tr>\n",
       "      <th>4176</th>\n",
       "      <td>#ipad2 delivery at the pop up @mention store @...</td>\n",
       "      <td>Apple</td>\n",
       "      <td>[ipad2, delivery, at, the, pop, up, mention, s...</td>\n",
       "    </tr>\n",
       "    <tr>\n",
       "      <th>882</th>\n",
       "      <td>i think i might go all weekend without seeing ...</td>\n",
       "      <td>Apple</td>\n",
       "      <td>[think, might, go, all, weekend, without, seei...</td>\n",
       "    </tr>\n",
       "    <tr>\n",
       "      <th>776</th>\n",
       "      <td>google to launch major new social network call...</td>\n",
       "      <td>Google</td>\n",
       "      <td>[google, to, launch, major, new, social, netwo...</td>\n",
       "    </tr>\n",
       "    <tr>\n",
       "      <th>622</th>\n",
       "      <td>google to host developer day at sxsw {link} #s...</td>\n",
       "      <td>Google</td>\n",
       "      <td>[google, to, host, developer, day, at, sxsw, l...</td>\n",
       "    </tr>\n",
       "  </tbody>\n",
       "</table>\n",
       "</div>"
      ],
      "text/plain": [
       "                                                   text product  \\\n",
       "298   temporary apple store opens @mention 6th &amp;...   Apple   \n",
       "4176  #ipad2 delivery at the pop up @mention store @...   Apple   \n",
       "882   i think i might go all weekend without seeing ...   Apple   \n",
       "776   google to launch major new social network call...  Google   \n",
       "622   google to host developer day at sxsw {link} #s...  Google   \n",
       "\n",
       "                                         text_tokenized  \n",
       "298   [temporary, apple, store, opens, mention, 6th,...  \n",
       "4176  [ipad2, delivery, at, the, pop, up, mention, s...  \n",
       "882   [think, might, go, all, weekend, without, seei...  \n",
       "776   [google, to, launch, major, new, social, netwo...  \n",
       "622   [google, to, host, developer, day, at, sxsw, l...  "
      ]
     },
     "execution_count": 303,
     "metadata": {},
     "output_type": "execute_result"
    }
   ],
   "source": [
    "X_train.head()"
   ]
  },
  {
   "cell_type": "markdown",
   "metadata": {},
   "source": [
    "## Feature Engineering"
   ]
  },
  {
   "cell_type": "markdown",
   "metadata": {},
   "source": [
    "### Remove Stopwords"
   ]
  },
  {
   "cell_type": "markdown",
   "metadata": {},
   "source": [
    "Before we remove stopwords from our training set, lets look at our current top 20 words."
   ]
  },
  {
   "cell_type": "code",
   "execution_count": 304,
   "metadata": {
    "ExecuteTime": {
     "end_time": "2022-09-28T02:14:50.203143Z",
     "start_time": "2022-09-28T02:14:50.101507Z"
    }
   },
   "outputs": [
    {
     "data": {
      "text/plain": [
       "FreqDist({'sxsw': 6629, 'mention': 4905, 'the': 3085, 'link': 2978, 'to': 2486, 'at': 2113, 'rt': 2074, 'google': 1812, 'for': 1744, 'ipad': 1729, ...})"
      ]
     },
     "execution_count": 304,
     "metadata": {},
     "output_type": "execute_result"
    }
   ],
   "source": [
    "train_freq_dist = FreqDist(X_train['text_tokenized'].explode())\n",
    "train_freq_dist"
   ]
  },
  {
   "cell_type": "code",
   "execution_count": 305,
   "metadata": {
    "ExecuteTime": {
     "end_time": "2022-09-28T02:14:50.368167Z",
     "start_time": "2022-09-28T02:14:50.241256Z"
    }
   },
   "outputs": [
    {
     "data": {
      "image/png": "[encoded data removed]",
      "text/plain": [
       "<Figure size 864x432 with 1 Axes>"
      ]
     },
     "metadata": {
      "needs_background": "light"
     },
     "output_type": "display_data"
    }
   ],
   "source": [
    "def visualize_top_20(freq_dist, title):\n",
    "\n",
    "    top_20 = list(zip(*freq_dist.most_common(20)))\n",
    "    tokens = top_20[0]\n",
    "    counts = top_20[1]\n",
    "\n",
    "    fig, ax = plt.subplots(figsize=(12,6))\n",
    "    ax.bar(tokens, counts)\n",
    "\n",
    "    ax.set_title(title)\n",
    "    ax.set_ylabel(\"Count\")\n",
    "    ax.yaxis.set_major_locator(MaxNLocator(integer=True))\n",
    "    ax.tick_params(axis=\"x\", rotation=90)\n",
    "    \n",
    "visualize_top_20(train_freq_dist, \n",
    "                 \"Top 20 Word Frequency for Training Set (with stopwords)\")"
   ]
  },
  {
   "cell_type": "markdown",
   "metadata": {},
   "source": [
    "The majority, if not all, of these top 20 words are either stopwords or words pertaining to South by Southwest, Google, or Apple that do not carry any information on sentiment.  I will remove these words to pare down our text to more meaningful words."
   ]
  },
  {
   "cell_type": "code",
   "execution_count": 306,
   "metadata": {
    "ExecuteTime": {
     "end_time": "2022-09-28T02:14:50.603059Z",
     "start_time": "2022-09-28T02:14:50.594971Z"
    }
   },
   "outputs": [],
   "source": [
    "# Create a list of english stopwords\n",
    "stopwords = nltk.corpus.stopwords.words('english')"
   ]
  },
  {
   "cell_type": "code",
   "execution_count": 307,
   "metadata": {
    "ExecuteTime": {
     "end_time": "2022-09-28T02:14:50.819455Z",
     "start_time": "2022-09-28T02:14:50.813086Z"
    }
   },
   "outputs": [],
   "source": [
    "# Add words specific to SXSW, Apple, or Google\n",
    "sxsw = ['sxsw', 'sxswi', 'mention', 'link', 'rt', 'rtmention', 'quot', \n",
    "        'austin', 'google', 'ipad', 'apple', 'iphone', 'amp', \n",
    "        'android', 'ipad2']\n",
    "stopwords.extend(sxsw)"
   ]
  },
  {
   "cell_type": "code",
   "execution_count": 308,
   "metadata": {
    "ExecuteTime": {
     "end_time": "2022-09-28T02:14:51.017554Z",
     "start_time": "2022-09-28T02:14:51.011188Z"
    }
   },
   "outputs": [],
   "source": [
    "# Create a function for removing stopwords\n",
    "def remove_stopwords(token_list):\n",
    "    stopwords_removed = [token for token in token_list if token not in stopwords]\n",
    "    return stopwords_removed"
   ]
  },
  {
   "cell_type": "code",
   "execution_count": 309,
   "metadata": {
    "ExecuteTime": {
     "end_time": "2022-09-28T02:14:51.675384Z",
     "start_time": "2022-09-28T02:14:51.213855Z"
    }
   },
   "outputs": [],
   "source": [
    "# Create a new column for text without stopwords\n",
    "X_train['text_without_stopwords'] = X_train['text_tokenized'].apply(remove_stopwords)"
   ]
  },
  {
   "cell_type": "code",
   "execution_count": 310,
   "metadata": {
    "ExecuteTime": {
     "end_time": "2022-09-28T02:14:51.683051Z",
     "start_time": "2022-09-28T02:14:51.676483Z"
    }
   },
   "outputs": [
    {
     "data": {
      "text/html": [
       "<div>\n",
       "<style scoped>\n",
       "    .dataframe tbody tr th:only-of-type {\n",
       "        vertical-align: middle;\n",
       "    }\n",
       "\n",
       "    .dataframe tbody tr th {\n",
       "        vertical-align: top;\n",
       "    }\n",
       "\n",
       "    .dataframe thead th {\n",
       "        text-align: right;\n",
       "    }\n",
       "</style>\n",
       "<table border=\"1\" class=\"dataframe\">\n",
       "  <thead>\n",
       "    <tr style=\"text-align: right;\">\n",
       "      <th></th>\n",
       "      <th>text</th>\n",
       "      <th>product</th>\n",
       "      <th>text_tokenized</th>\n",
       "      <th>text_without_stopwords</th>\n",
       "    </tr>\n",
       "  </thead>\n",
       "  <tbody>\n",
       "    <tr>\n",
       "      <th>298</th>\n",
       "      <td>temporary apple store opens @mention 6th &amp;amp;...</td>\n",
       "      <td>Apple</td>\n",
       "      <td>[temporary, apple, store, opens, mention, 6th,...</td>\n",
       "      <td>[temporary, store, opens, 6th, congress, tomor...</td>\n",
       "    </tr>\n",
       "    <tr>\n",
       "      <th>4176</th>\n",
       "      <td>#ipad2 delivery at the pop up @mention store @...</td>\n",
       "      <td>Apple</td>\n",
       "      <td>[ipad2, delivery, at, the, pop, up, mention, s...</td>\n",
       "      <td>[delivery, pop, store, quite, possible]</td>\n",
       "    </tr>\n",
       "    <tr>\n",
       "      <th>882</th>\n",
       "      <td>i think i might go all weekend without seeing ...</td>\n",
       "      <td>Apple</td>\n",
       "      <td>[think, might, go, all, weekend, without, seei...</td>\n",
       "      <td>[think, might, go, weekend, without, seeing, c...</td>\n",
       "    </tr>\n",
       "    <tr>\n",
       "      <th>776</th>\n",
       "      <td>google to launch major new social network call...</td>\n",
       "      <td>Google</td>\n",
       "      <td>[google, to, launch, major, new, social, netwo...</td>\n",
       "      <td>[launch, major, new, social, network, called, ...</td>\n",
       "    </tr>\n",
       "    <tr>\n",
       "      <th>622</th>\n",
       "      <td>google to host developer day at sxsw {link} #s...</td>\n",
       "      <td>Google</td>\n",
       "      <td>[google, to, host, developer, day, at, sxsw, l...</td>\n",
       "      <td>[host, developer, day]</td>\n",
       "    </tr>\n",
       "  </tbody>\n",
       "</table>\n",
       "</div>"
      ],
      "text/plain": [
       "                                                   text product  \\\n",
       "298   temporary apple store opens @mention 6th &amp;...   Apple   \n",
       "4176  #ipad2 delivery at the pop up @mention store @...   Apple   \n",
       "882   i think i might go all weekend without seeing ...   Apple   \n",
       "776   google to launch major new social network call...  Google   \n",
       "622   google to host developer day at sxsw {link} #s...  Google   \n",
       "\n",
       "                                         text_tokenized  \\\n",
       "298   [temporary, apple, store, opens, mention, 6th,...   \n",
       "4176  [ipad2, delivery, at, the, pop, up, mention, s...   \n",
       "882   [think, might, go, all, weekend, without, seei...   \n",
       "776   [google, to, launch, major, new, social, netwo...   \n",
       "622   [google, to, host, developer, day, at, sxsw, l...   \n",
       "\n",
       "                                 text_without_stopwords  \n",
       "298   [temporary, store, opens, 6th, congress, tomor...  \n",
       "4176            [delivery, pop, store, quite, possible]  \n",
       "882   [think, might, go, weekend, without, seeing, c...  \n",
       "776   [launch, major, new, social, network, called, ...  \n",
       "622                              [host, developer, day]  "
      ]
     },
     "execution_count": 310,
     "metadata": {},
     "output_type": "execute_result"
    }
   ],
   "source": [
    "X_train.head()"
   ]
  },
  {
   "cell_type": "markdown",
   "metadata": {},
   "source": [
    "Now that we have removed stopwords, lets look at our top 20 words again."
   ]
  },
  {
   "cell_type": "code",
   "execution_count": 311,
   "metadata": {
    "ExecuteTime": {
     "end_time": "2022-09-28T02:14:51.866073Z",
     "start_time": "2022-09-28T02:14:51.815350Z"
    }
   },
   "outputs": [],
   "source": [
    "new_train_freq_dist = FreqDist(X_train['text_without_stopwords'].explode())"
   ]
  },
  {
   "cell_type": "code",
   "execution_count": 312,
   "metadata": {
    "ExecuteTime": {
     "end_time": "2022-09-28T02:14:52.167093Z",
     "start_time": "2022-09-28T02:14:52.012549Z"
    },
    "scrolled": true
   },
   "outputs": [
    {
     "data": {
      "image/png": "[encoded data removed]",
      "text/plain": [
       "<Figure size 864x432 with 1 Axes>"
      ]
     },
     "metadata": {
      "needs_background": "light"
     },
     "output_type": "display_data"
    }
   ],
   "source": [
    "visualize_top_20(new_train_freq_dist, \n",
    "                 \"Top 20 Word Frequency for Training Set (without stopwords)\")"
   ]
  },
  {
   "cell_type": "markdown",
   "metadata": {},
   "source": [
    "### Second Model"
   ]
  },
  {
   "cell_type": "code",
   "execution_count": 313,
   "metadata": {
    "ExecuteTime": {
     "end_time": "2022-09-28T02:14:52.514113Z",
     "start_time": "2022-09-28T02:14:52.378987Z"
    }
   },
   "outputs": [
    {
     "data": {
      "text/html": [
       "<div>\n",
       "<style scoped>\n",
       "    .dataframe tbody tr th:only-of-type {\n",
       "        vertical-align: middle;\n",
       "    }\n",
       "\n",
       "    .dataframe tbody tr th {\n",
       "        vertical-align: top;\n",
       "    }\n",
       "\n",
       "    .dataframe thead th {\n",
       "        text-align: right;\n",
       "    }\n",
       "</style>\n",
       "<table border=\"1\" class=\"dataframe\">\n",
       "  <thead>\n",
       "    <tr style=\"text-align: right;\">\n",
       "      <th></th>\n",
       "      <th>app</th>\n",
       "      <th>called</th>\n",
       "      <th>circles</th>\n",
       "      <th>free</th>\n",
       "      <th>get</th>\n",
       "      <th>launch</th>\n",
       "      <th>like</th>\n",
       "      <th>line</th>\n",
       "      <th>major</th>\n",
       "      <th>mobile</th>\n",
       "      <th>network</th>\n",
       "      <th>new</th>\n",
       "      <th>one</th>\n",
       "      <th>party</th>\n",
       "      <th>pop</th>\n",
       "      <th>social</th>\n",
       "      <th>store</th>\n",
       "      <th>temporary</th>\n",
       "      <th>today</th>\n",
       "      <th>via</th>\n",
       "    </tr>\n",
       "  </thead>\n",
       "  <tbody>\n",
       "    <tr>\n",
       "      <th>0</th>\n",
       "      <td>0.0</td>\n",
       "      <td>0.000000</td>\n",
       "      <td>0.000000</td>\n",
       "      <td>0.0</td>\n",
       "      <td>0.000000</td>\n",
       "      <td>0.000000</td>\n",
       "      <td>0.0</td>\n",
       "      <td>0.0</td>\n",
       "      <td>0.000000</td>\n",
       "      <td>0.0</td>\n",
       "      <td>0.000000</td>\n",
       "      <td>0.000000</td>\n",
       "      <td>0.0</td>\n",
       "      <td>0.0</td>\n",
       "      <td>0.000000</td>\n",
       "      <td>0.000000</td>\n",
       "      <td>0.531619</td>\n",
       "      <td>0.846984</td>\n",
       "      <td>0.000000</td>\n",
       "      <td>0.0</td>\n",
       "    </tr>\n",
       "    <tr>\n",
       "      <th>1</th>\n",
       "      <td>0.0</td>\n",
       "      <td>0.000000</td>\n",
       "      <td>0.000000</td>\n",
       "      <td>0.0</td>\n",
       "      <td>0.000000</td>\n",
       "      <td>0.000000</td>\n",
       "      <td>0.0</td>\n",
       "      <td>0.0</td>\n",
       "      <td>0.000000</td>\n",
       "      <td>0.0</td>\n",
       "      <td>0.000000</td>\n",
       "      <td>0.000000</td>\n",
       "      <td>0.0</td>\n",
       "      <td>0.0</td>\n",
       "      <td>0.802991</td>\n",
       "      <td>0.000000</td>\n",
       "      <td>0.595991</td>\n",
       "      <td>0.000000</td>\n",
       "      <td>0.000000</td>\n",
       "      <td>0.0</td>\n",
       "    </tr>\n",
       "    <tr>\n",
       "      <th>2</th>\n",
       "      <td>0.0</td>\n",
       "      <td>0.000000</td>\n",
       "      <td>0.000000</td>\n",
       "      <td>0.0</td>\n",
       "      <td>0.000000</td>\n",
       "      <td>0.000000</td>\n",
       "      <td>0.0</td>\n",
       "      <td>0.0</td>\n",
       "      <td>0.000000</td>\n",
       "      <td>0.0</td>\n",
       "      <td>0.000000</td>\n",
       "      <td>0.000000</td>\n",
       "      <td>0.0</td>\n",
       "      <td>0.0</td>\n",
       "      <td>0.000000</td>\n",
       "      <td>0.000000</td>\n",
       "      <td>0.000000</td>\n",
       "      <td>0.000000</td>\n",
       "      <td>0.000000</td>\n",
       "      <td>0.0</td>\n",
       "    </tr>\n",
       "    <tr>\n",
       "      <th>3</th>\n",
       "      <td>0.0</td>\n",
       "      <td>0.390767</td>\n",
       "      <td>0.337943</td>\n",
       "      <td>0.0</td>\n",
       "      <td>0.000000</td>\n",
       "      <td>0.336924</td>\n",
       "      <td>0.0</td>\n",
       "      <td>0.0</td>\n",
       "      <td>0.405584</td>\n",
       "      <td>0.0</td>\n",
       "      <td>0.366461</td>\n",
       "      <td>0.291352</td>\n",
       "      <td>0.0</td>\n",
       "      <td>0.0</td>\n",
       "      <td>0.000000</td>\n",
       "      <td>0.336319</td>\n",
       "      <td>0.000000</td>\n",
       "      <td>0.000000</td>\n",
       "      <td>0.350413</td>\n",
       "      <td>0.0</td>\n",
       "    </tr>\n",
       "    <tr>\n",
       "      <th>4</th>\n",
       "      <td>0.0</td>\n",
       "      <td>0.000000</td>\n",
       "      <td>0.000000</td>\n",
       "      <td>0.0</td>\n",
       "      <td>0.000000</td>\n",
       "      <td>0.000000</td>\n",
       "      <td>0.0</td>\n",
       "      <td>0.0</td>\n",
       "      <td>0.000000</td>\n",
       "      <td>0.0</td>\n",
       "      <td>0.000000</td>\n",
       "      <td>0.000000</td>\n",
       "      <td>0.0</td>\n",
       "      <td>0.0</td>\n",
       "      <td>0.000000</td>\n",
       "      <td>0.000000</td>\n",
       "      <td>0.000000</td>\n",
       "      <td>0.000000</td>\n",
       "      <td>0.000000</td>\n",
       "      <td>0.0</td>\n",
       "    </tr>\n",
       "    <tr>\n",
       "      <th>...</th>\n",
       "      <td>...</td>\n",
       "      <td>...</td>\n",
       "      <td>...</td>\n",
       "      <td>...</td>\n",
       "      <td>...</td>\n",
       "      <td>...</td>\n",
       "      <td>...</td>\n",
       "      <td>...</td>\n",
       "      <td>...</td>\n",
       "      <td>...</td>\n",
       "      <td>...</td>\n",
       "      <td>...</td>\n",
       "      <td>...</td>\n",
       "      <td>...</td>\n",
       "      <td>...</td>\n",
       "      <td>...</td>\n",
       "      <td>...</td>\n",
       "      <td>...</td>\n",
       "      <td>...</td>\n",
       "      <td>...</td>\n",
       "    </tr>\n",
       "    <tr>\n",
       "      <th>6250</th>\n",
       "      <td>0.0</td>\n",
       "      <td>0.000000</td>\n",
       "      <td>0.000000</td>\n",
       "      <td>0.0</td>\n",
       "      <td>0.000000</td>\n",
       "      <td>0.000000</td>\n",
       "      <td>0.0</td>\n",
       "      <td>0.0</td>\n",
       "      <td>0.000000</td>\n",
       "      <td>0.0</td>\n",
       "      <td>0.000000</td>\n",
       "      <td>0.000000</td>\n",
       "      <td>0.0</td>\n",
       "      <td>0.0</td>\n",
       "      <td>0.000000</td>\n",
       "      <td>0.000000</td>\n",
       "      <td>0.000000</td>\n",
       "      <td>0.000000</td>\n",
       "      <td>0.000000</td>\n",
       "      <td>0.0</td>\n",
       "    </tr>\n",
       "    <tr>\n",
       "      <th>6251</th>\n",
       "      <td>0.0</td>\n",
       "      <td>0.000000</td>\n",
       "      <td>0.000000</td>\n",
       "      <td>0.0</td>\n",
       "      <td>0.000000</td>\n",
       "      <td>0.000000</td>\n",
       "      <td>0.0</td>\n",
       "      <td>0.0</td>\n",
       "      <td>0.000000</td>\n",
       "      <td>0.0</td>\n",
       "      <td>0.000000</td>\n",
       "      <td>0.000000</td>\n",
       "      <td>0.0</td>\n",
       "      <td>0.0</td>\n",
       "      <td>0.000000</td>\n",
       "      <td>0.000000</td>\n",
       "      <td>0.000000</td>\n",
       "      <td>0.000000</td>\n",
       "      <td>1.000000</td>\n",
       "      <td>0.0</td>\n",
       "    </tr>\n",
       "    <tr>\n",
       "      <th>6252</th>\n",
       "      <td>0.0</td>\n",
       "      <td>0.000000</td>\n",
       "      <td>0.000000</td>\n",
       "      <td>0.0</td>\n",
       "      <td>0.000000</td>\n",
       "      <td>0.000000</td>\n",
       "      <td>0.0</td>\n",
       "      <td>0.0</td>\n",
       "      <td>0.000000</td>\n",
       "      <td>0.0</td>\n",
       "      <td>0.000000</td>\n",
       "      <td>0.000000</td>\n",
       "      <td>0.0</td>\n",
       "      <td>0.0</td>\n",
       "      <td>0.000000</td>\n",
       "      <td>0.000000</td>\n",
       "      <td>0.000000</td>\n",
       "      <td>0.000000</td>\n",
       "      <td>0.000000</td>\n",
       "      <td>0.0</td>\n",
       "    </tr>\n",
       "    <tr>\n",
       "      <th>6253</th>\n",
       "      <td>0.0</td>\n",
       "      <td>0.000000</td>\n",
       "      <td>0.000000</td>\n",
       "      <td>0.0</td>\n",
       "      <td>0.000000</td>\n",
       "      <td>0.000000</td>\n",
       "      <td>0.0</td>\n",
       "      <td>0.0</td>\n",
       "      <td>0.000000</td>\n",
       "      <td>0.0</td>\n",
       "      <td>0.000000</td>\n",
       "      <td>0.000000</td>\n",
       "      <td>0.0</td>\n",
       "      <td>0.0</td>\n",
       "      <td>0.000000</td>\n",
       "      <td>0.000000</td>\n",
       "      <td>0.000000</td>\n",
       "      <td>0.000000</td>\n",
       "      <td>0.000000</td>\n",
       "      <td>0.0</td>\n",
       "    </tr>\n",
       "    <tr>\n",
       "      <th>6254</th>\n",
       "      <td>0.0</td>\n",
       "      <td>0.000000</td>\n",
       "      <td>0.000000</td>\n",
       "      <td>0.0</td>\n",
       "      <td>0.666384</td>\n",
       "      <td>0.000000</td>\n",
       "      <td>0.0</td>\n",
       "      <td>0.0</td>\n",
       "      <td>0.000000</td>\n",
       "      <td>0.0</td>\n",
       "      <td>0.000000</td>\n",
       "      <td>0.000000</td>\n",
       "      <td>0.0</td>\n",
       "      <td>0.0</td>\n",
       "      <td>0.598717</td>\n",
       "      <td>0.000000</td>\n",
       "      <td>0.444377</td>\n",
       "      <td>0.000000</td>\n",
       "      <td>0.000000</td>\n",
       "      <td>0.0</td>\n",
       "    </tr>\n",
       "  </tbody>\n",
       "</table>\n",
       "<p>6255 rows × 20 columns</p>\n",
       "</div>"
      ],
      "text/plain": [
       "      app    called   circles  free       get    launch  like  line     major  \\\n",
       "0     0.0  0.000000  0.000000   0.0  0.000000  0.000000   0.0   0.0  0.000000   \n",
       "1     0.0  0.000000  0.000000   0.0  0.000000  0.000000   0.0   0.0  0.000000   \n",
       "2     0.0  0.000000  0.000000   0.0  0.000000  0.000000   0.0   0.0  0.000000   \n",
       "3     0.0  0.390767  0.337943   0.0  0.000000  0.336924   0.0   0.0  0.405584   \n",
       "4     0.0  0.000000  0.000000   0.0  0.000000  0.000000   0.0   0.0  0.000000   \n",
       "...   ...       ...       ...   ...       ...       ...   ...   ...       ...   \n",
       "6250  0.0  0.000000  0.000000   0.0  0.000000  0.000000   0.0   0.0  0.000000   \n",
       "6251  0.0  0.000000  0.000000   0.0  0.000000  0.000000   0.0   0.0  0.000000   \n",
       "6252  0.0  0.000000  0.000000   0.0  0.000000  0.000000   0.0   0.0  0.000000   \n",
       "6253  0.0  0.000000  0.000000   0.0  0.000000  0.000000   0.0   0.0  0.000000   \n",
       "6254  0.0  0.000000  0.000000   0.0  0.666384  0.000000   0.0   0.0  0.000000   \n",
       "\n",
       "      mobile   network       new  one  party       pop    social     store  \\\n",
       "0        0.0  0.000000  0.000000  0.0    0.0  0.000000  0.000000  0.531619   \n",
       "1        0.0  0.000000  0.000000  0.0    0.0  0.802991  0.000000  0.595991   \n",
       "2        0.0  0.000000  0.000000  0.0    0.0  0.000000  0.000000  0.000000   \n",
       "3        0.0  0.366461  0.291352  0.0    0.0  0.000000  0.336319  0.000000   \n",
       "4        0.0  0.000000  0.000000  0.0    0.0  0.000000  0.000000  0.000000   \n",
       "...      ...       ...       ...  ...    ...       ...       ...       ...   \n",
       "6250     0.0  0.000000  0.000000  0.0    0.0  0.000000  0.000000  0.000000   \n",
       "6251     0.0  0.000000  0.000000  0.0    0.0  0.000000  0.000000  0.000000   \n",
       "6252     0.0  0.000000  0.000000  0.0    0.0  0.000000  0.000000  0.000000   \n",
       "6253     0.0  0.000000  0.000000  0.0    0.0  0.000000  0.000000  0.000000   \n",
       "6254     0.0  0.000000  0.000000  0.0    0.0  0.598717  0.000000  0.444377   \n",
       "\n",
       "      temporary     today  via  \n",
       "0      0.846984  0.000000  0.0  \n",
       "1      0.000000  0.000000  0.0  \n",
       "2      0.000000  0.000000  0.0  \n",
       "3      0.000000  0.350413  0.0  \n",
       "4      0.000000  0.000000  0.0  \n",
       "...         ...       ...  ...  \n",
       "6250   0.000000  0.000000  0.0  \n",
       "6251   0.000000  1.000000  0.0  \n",
       "6252   0.000000  0.000000  0.0  \n",
       "6253   0.000000  0.000000  0.0  \n",
       "6254   0.000000  0.000000  0.0  \n",
       "\n",
       "[6255 rows x 20 columns]"
      ]
     },
     "execution_count": 313,
     "metadata": {},
     "output_type": "execute_result"
    }
   ],
   "source": [
    "# Vetorize X_train text without stopwords\n",
    "tfidf = TfidfVectorizer(max_features=20, stop_words=stopwords)\n",
    "\n",
    "X_train_vectorized_2 = tfidf.fit_transform(X_train[\"text\"])\n",
    "\n",
    "pd.DataFrame.sparse.from_spmatrix(X_train_vectorized_2, \n",
    "                                  columns=tfidf.get_feature_names())"
   ]
  },
  {
   "cell_type": "code",
   "execution_count": 314,
   "metadata": {
    "ExecuteTime": {
     "end_time": "2022-09-28T02:14:52.675845Z",
     "start_time": "2022-09-28T02:14:52.607866Z"
    }
   },
   "outputs": [
    {
     "data": {
      "text/plain": [
       "array([0.61550759, 0.60671463, 0.60431655, 0.60431655, 0.61231015])"
      ]
     },
     "execution_count": 314,
     "metadata": {},
     "output_type": "execute_result"
    }
   ],
   "source": [
    "# Evaluate the baseline model on the text without stopwords\n",
    "stopwords_removed_cv = cross_val_score(baseline_model, \n",
    "                                       X_train_vectorized_2, \n",
    "                                       y_train)\n",
    "stopwords_removed_cv"
   ]
  },
  {
   "cell_type": "code",
   "execution_count": 315,
   "metadata": {
    "ExecuteTime": {
     "end_time": "2022-09-28T02:14:52.808581Z",
     "start_time": "2022-09-28T02:14:52.803228Z"
    }
   },
   "outputs": [
    {
     "name": "stdout",
     "output_type": "stream",
     "text": [
      "Baseline:          0.6028776978417267\n",
      "Stopwords removed: 0.6086330935251799\n"
     ]
    }
   ],
   "source": [
    "print(\"Baseline:         \", baseline_cv.mean())\n",
    "print(\"Stopwords removed:\", stopwords_removed_cv.mean())"
   ]
  },
  {
   "cell_type": "markdown",
   "metadata": {},
   "source": [
    "This second model is performing slightly better than our baseline. Our next step to improve our model's performance is Lemmatization."
   ]
  },
  {
   "cell_type": "markdown",
   "metadata": {},
   "source": [
    "### Lemmatization"
   ]
  },
  {
   "cell_type": "markdown",
   "metadata": {},
   "source": [
    "Lemmatization reduces each token to it's root word. For example, 'texts' and 'texting' would both be reduced to 'text'."
   ]
  },
  {
   "cell_type": "code",
   "execution_count": 316,
   "metadata": {
    "ExecuteTime": {
     "end_time": "2022-09-28T02:14:53.762624Z",
     "start_time": "2022-09-28T02:14:53.757916Z"
    }
   },
   "outputs": [],
   "source": [
    "# Create a function for lemmatizing\n",
    "lemmatizer = WordNetLemmatizer()\n",
    "def lemmatize_text(token_list):\n",
    "    lemmatized_text = [lemmatizer.lemmatize(word) for word in token_list]\n",
    "    return lemmatized_text"
   ]
  },
  {
   "cell_type": "code",
   "execution_count": 317,
   "metadata": {
    "ExecuteTime": {
     "end_time": "2022-09-28T02:14:54.169943Z",
     "start_time": "2022-09-28T02:14:53.981640Z"
    },
    "scrolled": true
   },
   "outputs": [],
   "source": [
    "# Create a new column for lemmatized text\n",
    "X_train['lemmatized_text'] = X_train['text_without_stopwords'].apply(lemmatize_text)"
   ]
  },
  {
   "cell_type": "code",
   "execution_count": 318,
   "metadata": {
    "ExecuteTime": {
     "end_time": "2022-09-28T02:14:54.201016Z",
     "start_time": "2022-09-28T02:14:54.192086Z"
    }
   },
   "outputs": [
    {
     "data": {
      "text/html": [
       "<div>\n",
       "<style scoped>\n",
       "    .dataframe tbody tr th:only-of-type {\n",
       "        vertical-align: middle;\n",
       "    }\n",
       "\n",
       "    .dataframe tbody tr th {\n",
       "        vertical-align: top;\n",
       "    }\n",
       "\n",
       "    .dataframe thead th {\n",
       "        text-align: right;\n",
       "    }\n",
       "</style>\n",
       "<table border=\"1\" class=\"dataframe\">\n",
       "  <thead>\n",
       "    <tr style=\"text-align: right;\">\n",
       "      <th></th>\n",
       "      <th>text</th>\n",
       "      <th>product</th>\n",
       "      <th>text_tokenized</th>\n",
       "      <th>text_without_stopwords</th>\n",
       "      <th>lemmatized_text</th>\n",
       "    </tr>\n",
       "  </thead>\n",
       "  <tbody>\n",
       "    <tr>\n",
       "      <th>298</th>\n",
       "      <td>temporary apple store opens @mention 6th &amp;amp;...</td>\n",
       "      <td>Apple</td>\n",
       "      <td>[temporary, apple, store, opens, mention, 6th,...</td>\n",
       "      <td>[temporary, store, opens, 6th, congress, tomor...</td>\n",
       "      <td>[temporary, store, open, 6th, congress, tomorrow]</td>\n",
       "    </tr>\n",
       "    <tr>\n",
       "      <th>4176</th>\n",
       "      <td>#ipad2 delivery at the pop up @mention store @...</td>\n",
       "      <td>Apple</td>\n",
       "      <td>[ipad2, delivery, at, the, pop, up, mention, s...</td>\n",
       "      <td>[delivery, pop, store, quite, possible]</td>\n",
       "      <td>[delivery, pop, store, quite, possible]</td>\n",
       "    </tr>\n",
       "    <tr>\n",
       "      <th>882</th>\n",
       "      <td>i think i might go all weekend without seeing ...</td>\n",
       "      <td>Apple</td>\n",
       "      <td>[think, might, go, all, weekend, without, seei...</td>\n",
       "      <td>[think, might, go, weekend, without, seeing, c...</td>\n",
       "      <td>[think, might, go, weekend, without, seeing, c...</td>\n",
       "    </tr>\n",
       "    <tr>\n",
       "      <th>776</th>\n",
       "      <td>google to launch major new social network call...</td>\n",
       "      <td>Google</td>\n",
       "      <td>[google, to, launch, major, new, social, netwo...</td>\n",
       "      <td>[launch, major, new, social, network, called, ...</td>\n",
       "      <td>[launch, major, new, social, network, called, ...</td>\n",
       "    </tr>\n",
       "    <tr>\n",
       "      <th>622</th>\n",
       "      <td>google to host developer day at sxsw {link} #s...</td>\n",
       "      <td>Google</td>\n",
       "      <td>[google, to, host, developer, day, at, sxsw, l...</td>\n",
       "      <td>[host, developer, day]</td>\n",
       "      <td>[host, developer, day]</td>\n",
       "    </tr>\n",
       "  </tbody>\n",
       "</table>\n",
       "</div>"
      ],
      "text/plain": [
       "                                                   text product  \\\n",
       "298   temporary apple store opens @mention 6th &amp;...   Apple   \n",
       "4176  #ipad2 delivery at the pop up @mention store @...   Apple   \n",
       "882   i think i might go all weekend without seeing ...   Apple   \n",
       "776   google to launch major new social network call...  Google   \n",
       "622   google to host developer day at sxsw {link} #s...  Google   \n",
       "\n",
       "                                         text_tokenized  \\\n",
       "298   [temporary, apple, store, opens, mention, 6th,...   \n",
       "4176  [ipad2, delivery, at, the, pop, up, mention, s...   \n",
       "882   [think, might, go, all, weekend, without, seei...   \n",
       "776   [google, to, launch, major, new, social, netwo...   \n",
       "622   [google, to, host, developer, day, at, sxsw, l...   \n",
       "\n",
       "                                 text_without_stopwords  \\\n",
       "298   [temporary, store, opens, 6th, congress, tomor...   \n",
       "4176            [delivery, pop, store, quite, possible]   \n",
       "882   [think, might, go, weekend, without, seeing, c...   \n",
       "776   [launch, major, new, social, network, called, ...   \n",
       "622                              [host, developer, day]   \n",
       "\n",
       "                                        lemmatized_text  \n",
       "298   [temporary, store, open, 6th, congress, tomorrow]  \n",
       "4176            [delivery, pop, store, quite, possible]  \n",
       "882   [think, might, go, weekend, without, seeing, c...  \n",
       "776   [launch, major, new, social, network, called, ...  \n",
       "622                              [host, developer, day]  "
      ]
     },
     "execution_count": 318,
     "metadata": {},
     "output_type": "execute_result"
    }
   ],
   "source": [
    "X_train.head()"
   ]
  },
  {
   "cell_type": "code",
   "execution_count": 319,
   "metadata": {
    "ExecuteTime": {
     "end_time": "2022-09-28T02:14:54.491790Z",
     "start_time": "2022-09-28T02:14:54.421970Z"
    }
   },
   "outputs": [],
   "source": [
    "lemmatized_freq_dist = FreqDist(X_train['lemmatized_text'].explode())"
   ]
  },
  {
   "cell_type": "code",
   "execution_count": 320,
   "metadata": {
    "ExecuteTime": {
     "end_time": "2022-09-28T02:14:54.758487Z",
     "start_time": "2022-09-28T02:14:54.604390Z"
    }
   },
   "outputs": [
    {
     "data": {
      "image/png": "[encoded data removed]",
      "text/plain": [
       "<Figure size 864x432 with 1 Axes>"
      ]
     },
     "metadata": {
      "needs_background": "light"
     },
     "output_type": "display_data"
    }
   ],
   "source": [
    "visualize_top_20(lemmatized_freq_dist, \n",
    "                 \"Top 20 Word Frequency for Training Set (lemmatized)\")"
   ]
  },
  {
   "cell_type": "code",
   "execution_count": 321,
   "metadata": {
    "ExecuteTime": {
     "end_time": "2022-09-28T02:14:54.853962Z",
     "start_time": "2022-09-28T02:14:54.847149Z"
    },
    "scrolled": true
   },
   "outputs": [],
   "source": [
    "# Create a new column for the final text string\n",
    "X_train['final_text'] = X_train['lemmatized_text'].apply(lambda x: ' '.join(x))"
   ]
  },
  {
   "cell_type": "code",
   "execution_count": 322,
   "metadata": {
    "ExecuteTime": {
     "end_time": "2022-09-28T02:14:55.023521Z",
     "start_time": "2022-09-28T02:14:54.996402Z"
    }
   },
   "outputs": [
    {
     "data": {
      "text/html": [
       "<div>\n",
       "<style scoped>\n",
       "    .dataframe tbody tr th:only-of-type {\n",
       "        vertical-align: middle;\n",
       "    }\n",
       "\n",
       "    .dataframe tbody tr th {\n",
       "        vertical-align: top;\n",
       "    }\n",
       "\n",
       "    .dataframe thead th {\n",
       "        text-align: right;\n",
       "    }\n",
       "</style>\n",
       "<table border=\"1\" class=\"dataframe\">\n",
       "  <thead>\n",
       "    <tr style=\"text-align: right;\">\n",
       "      <th></th>\n",
       "      <th>text</th>\n",
       "      <th>product</th>\n",
       "      <th>text_tokenized</th>\n",
       "      <th>text_without_stopwords</th>\n",
       "      <th>lemmatized_text</th>\n",
       "      <th>final_text</th>\n",
       "    </tr>\n",
       "  </thead>\n",
       "  <tbody>\n",
       "    <tr>\n",
       "      <th>298</th>\n",
       "      <td>temporary apple store opens @mention 6th &amp;amp;...</td>\n",
       "      <td>Apple</td>\n",
       "      <td>[temporary, apple, store, opens, mention, 6th,...</td>\n",
       "      <td>[temporary, store, opens, 6th, congress, tomor...</td>\n",
       "      <td>[temporary, store, open, 6th, congress, tomorrow]</td>\n",
       "      <td>temporary store open 6th congress tomorrow</td>\n",
       "    </tr>\n",
       "    <tr>\n",
       "      <th>4176</th>\n",
       "      <td>#ipad2 delivery at the pop up @mention store @...</td>\n",
       "      <td>Apple</td>\n",
       "      <td>[ipad2, delivery, at, the, pop, up, mention, s...</td>\n",
       "      <td>[delivery, pop, store, quite, possible]</td>\n",
       "      <td>[delivery, pop, store, quite, possible]</td>\n",
       "      <td>delivery pop store quite possible</td>\n",
       "    </tr>\n",
       "    <tr>\n",
       "      <th>882</th>\n",
       "      <td>i think i might go all weekend without seeing ...</td>\n",
       "      <td>Apple</td>\n",
       "      <td>[think, might, go, all, weekend, without, seei...</td>\n",
       "      <td>[think, might, go, weekend, without, seeing, c...</td>\n",
       "      <td>[think, might, go, weekend, without, seeing, c...</td>\n",
       "      <td>think might go weekend without seeing case twice</td>\n",
       "    </tr>\n",
       "    <tr>\n",
       "      <th>776</th>\n",
       "      <td>google to launch major new social network call...</td>\n",
       "      <td>Google</td>\n",
       "      <td>[google, to, launch, major, new, social, netwo...</td>\n",
       "      <td>[launch, major, new, social, network, called, ...</td>\n",
       "      <td>[launch, major, new, social, network, called, ...</td>\n",
       "      <td>launch major new social network called circle ...</td>\n",
       "    </tr>\n",
       "    <tr>\n",
       "      <th>622</th>\n",
       "      <td>google to host developer day at sxsw {link} #s...</td>\n",
       "      <td>Google</td>\n",
       "      <td>[google, to, host, developer, day, at, sxsw, l...</td>\n",
       "      <td>[host, developer, day]</td>\n",
       "      <td>[host, developer, day]</td>\n",
       "      <td>host developer day</td>\n",
       "    </tr>\n",
       "  </tbody>\n",
       "</table>\n",
       "</div>"
      ],
      "text/plain": [
       "                                                   text product  \\\n",
       "298   temporary apple store opens @mention 6th &amp;...   Apple   \n",
       "4176  #ipad2 delivery at the pop up @mention store @...   Apple   \n",
       "882   i think i might go all weekend without seeing ...   Apple   \n",
       "776   google to launch major new social network call...  Google   \n",
       "622   google to host developer day at sxsw {link} #s...  Google   \n",
       "\n",
       "                                         text_tokenized  \\\n",
       "298   [temporary, apple, store, opens, mention, 6th,...   \n",
       "4176  [ipad2, delivery, at, the, pop, up, mention, s...   \n",
       "882   [think, might, go, all, weekend, without, seei...   \n",
       "776   [google, to, launch, major, new, social, netwo...   \n",
       "622   [google, to, host, developer, day, at, sxsw, l...   \n",
       "\n",
       "                                 text_without_stopwords  \\\n",
       "298   [temporary, store, opens, 6th, congress, tomor...   \n",
       "4176            [delivery, pop, store, quite, possible]   \n",
       "882   [think, might, go, weekend, without, seeing, c...   \n",
       "776   [launch, major, new, social, network, called, ...   \n",
       "622                              [host, developer, day]   \n",
       "\n",
       "                                        lemmatized_text  \\\n",
       "298   [temporary, store, open, 6th, congress, tomorrow]   \n",
       "4176            [delivery, pop, store, quite, possible]   \n",
       "882   [think, might, go, weekend, without, seeing, c...   \n",
       "776   [launch, major, new, social, network, called, ...   \n",
       "622                              [host, developer, day]   \n",
       "\n",
       "                                             final_text  \n",
       "298          temporary store open 6th congress tomorrow  \n",
       "4176                  delivery pop store quite possible  \n",
       "882    think might go weekend without seeing case twice  \n",
       "776   launch major new social network called circle ...  \n",
       "622                                  host developer day  "
      ]
     },
     "execution_count": 322,
     "metadata": {},
     "output_type": "execute_result"
    }
   ],
   "source": [
    "X_train.head()"
   ]
  },
  {
   "cell_type": "code",
   "execution_count": 323,
   "metadata": {
    "ExecuteTime": {
     "end_time": "2022-09-28T02:14:55.417287Z",
     "start_time": "2022-09-28T02:14:55.405645Z"
    }
   },
   "outputs": [],
   "source": [
    "# Create a dataframe with only the final text\n",
    "X_train_preprocessed = X_train.drop(['text', \n",
    "                                     'text_tokenized', \n",
    "                                     'text_without_stopwords', \n",
    "                                     'lemmatized_text'], axis=1)"
   ]
  },
  {
   "cell_type": "code",
   "execution_count": 324,
   "metadata": {
    "ExecuteTime": {
     "end_time": "2022-09-28T02:14:55.821635Z",
     "start_time": "2022-09-28T02:14:55.806012Z"
    }
   },
   "outputs": [
    {
     "data": {
      "text/html": [
       "<div>\n",
       "<style scoped>\n",
       "    .dataframe tbody tr th:only-of-type {\n",
       "        vertical-align: middle;\n",
       "    }\n",
       "\n",
       "    .dataframe tbody tr th {\n",
       "        vertical-align: top;\n",
       "    }\n",
       "\n",
       "    .dataframe thead th {\n",
       "        text-align: right;\n",
       "    }\n",
       "</style>\n",
       "<table border=\"1\" class=\"dataframe\">\n",
       "  <thead>\n",
       "    <tr style=\"text-align: right;\">\n",
       "      <th></th>\n",
       "      <th>product</th>\n",
       "      <th>final_text</th>\n",
       "    </tr>\n",
       "  </thead>\n",
       "  <tbody>\n",
       "    <tr>\n",
       "      <th>298</th>\n",
       "      <td>Apple</td>\n",
       "      <td>temporary store open 6th congress tomorrow</td>\n",
       "    </tr>\n",
       "    <tr>\n",
       "      <th>4176</th>\n",
       "      <td>Apple</td>\n",
       "      <td>delivery pop store quite possible</td>\n",
       "    </tr>\n",
       "    <tr>\n",
       "      <th>882</th>\n",
       "      <td>Apple</td>\n",
       "      <td>think might go weekend without seeing case twice</td>\n",
       "    </tr>\n",
       "    <tr>\n",
       "      <th>776</th>\n",
       "      <td>Google</td>\n",
       "      <td>launch major new social network called circle ...</td>\n",
       "    </tr>\n",
       "    <tr>\n",
       "      <th>622</th>\n",
       "      <td>Google</td>\n",
       "      <td>host developer day</td>\n",
       "    </tr>\n",
       "  </tbody>\n",
       "</table>\n",
       "</div>"
      ],
      "text/plain": [
       "     product                                         final_text\n",
       "298    Apple         temporary store open 6th congress tomorrow\n",
       "4176   Apple                  delivery pop store quite possible\n",
       "882    Apple   think might go weekend without seeing case twice\n",
       "776   Google  launch major new social network called circle ...\n",
       "622   Google                                 host developer day"
      ]
     },
     "execution_count": 324,
     "metadata": {},
     "output_type": "execute_result"
    }
   ],
   "source": [
    "X_train_preprocessed.head()"
   ]
  },
  {
   "cell_type": "markdown",
   "metadata": {},
   "source": [
    "### Third Model"
   ]
  },
  {
   "cell_type": "code",
   "execution_count": 325,
   "metadata": {
    "ExecuteTime": {
     "end_time": "2022-09-28T02:14:56.298711Z",
     "start_time": "2022-09-28T02:14:56.187485Z"
    }
   },
   "outputs": [
    {
     "data": {
      "text/html": [
       "<div>\n",
       "<style scoped>\n",
       "    .dataframe tbody tr th:only-of-type {\n",
       "        vertical-align: middle;\n",
       "    }\n",
       "\n",
       "    .dataframe tbody tr th {\n",
       "        vertical-align: top;\n",
       "    }\n",
       "\n",
       "    .dataframe thead th {\n",
       "        text-align: right;\n",
       "    }\n",
       "</style>\n",
       "<table border=\"1\" class=\"dataframe\">\n",
       "  <thead>\n",
       "    <tr style=\"text-align: right;\">\n",
       "      <th></th>\n",
       "      <th>app</th>\n",
       "      <th>called</th>\n",
       "      <th>circle</th>\n",
       "      <th>free</th>\n",
       "      <th>get</th>\n",
       "      <th>launch</th>\n",
       "      <th>like</th>\n",
       "      <th>line</th>\n",
       "      <th>major</th>\n",
       "      <th>mobile</th>\n",
       "      <th>network</th>\n",
       "      <th>new</th>\n",
       "      <th>one</th>\n",
       "      <th>party</th>\n",
       "      <th>pop</th>\n",
       "      <th>social</th>\n",
       "      <th>store</th>\n",
       "      <th>time</th>\n",
       "      <th>today</th>\n",
       "      <th>via</th>\n",
       "    </tr>\n",
       "  </thead>\n",
       "  <tbody>\n",
       "    <tr>\n",
       "      <th>0</th>\n",
       "      <td>0.0</td>\n",
       "      <td>0.000000</td>\n",
       "      <td>0.00000</td>\n",
       "      <td>0.0</td>\n",
       "      <td>0.000000</td>\n",
       "      <td>0.000000</td>\n",
       "      <td>0.0</td>\n",
       "      <td>0.0</td>\n",
       "      <td>0.000000</td>\n",
       "      <td>0.0</td>\n",
       "      <td>0.000000</td>\n",
       "      <td>0.000000</td>\n",
       "      <td>0.0</td>\n",
       "      <td>0.000000</td>\n",
       "      <td>0.000000</td>\n",
       "      <td>0.000000</td>\n",
       "      <td>1.000000</td>\n",
       "      <td>0.000000</td>\n",
       "      <td>0.000000</td>\n",
       "      <td>0.0</td>\n",
       "    </tr>\n",
       "    <tr>\n",
       "      <th>1</th>\n",
       "      <td>0.0</td>\n",
       "      <td>0.000000</td>\n",
       "      <td>0.00000</td>\n",
       "      <td>0.0</td>\n",
       "      <td>0.000000</td>\n",
       "      <td>0.000000</td>\n",
       "      <td>0.0</td>\n",
       "      <td>0.0</td>\n",
       "      <td>0.000000</td>\n",
       "      <td>0.0</td>\n",
       "      <td>0.000000</td>\n",
       "      <td>0.000000</td>\n",
       "      <td>0.0</td>\n",
       "      <td>0.000000</td>\n",
       "      <td>0.804172</td>\n",
       "      <td>0.000000</td>\n",
       "      <td>0.594396</td>\n",
       "      <td>0.000000</td>\n",
       "      <td>0.000000</td>\n",
       "      <td>0.0</td>\n",
       "    </tr>\n",
       "    <tr>\n",
       "      <th>2</th>\n",
       "      <td>0.0</td>\n",
       "      <td>0.000000</td>\n",
       "      <td>0.00000</td>\n",
       "      <td>0.0</td>\n",
       "      <td>0.000000</td>\n",
       "      <td>0.000000</td>\n",
       "      <td>0.0</td>\n",
       "      <td>0.0</td>\n",
       "      <td>0.000000</td>\n",
       "      <td>0.0</td>\n",
       "      <td>0.000000</td>\n",
       "      <td>0.000000</td>\n",
       "      <td>0.0</td>\n",
       "      <td>0.000000</td>\n",
       "      <td>0.000000</td>\n",
       "      <td>0.000000</td>\n",
       "      <td>0.000000</td>\n",
       "      <td>0.000000</td>\n",
       "      <td>0.000000</td>\n",
       "      <td>0.0</td>\n",
       "    </tr>\n",
       "    <tr>\n",
       "      <th>3</th>\n",
       "      <td>0.0</td>\n",
       "      <td>0.391875</td>\n",
       "      <td>0.33707</td>\n",
       "      <td>0.0</td>\n",
       "      <td>0.000000</td>\n",
       "      <td>0.332166</td>\n",
       "      <td>0.0</td>\n",
       "      <td>0.0</td>\n",
       "      <td>0.406734</td>\n",
       "      <td>0.0</td>\n",
       "      <td>0.366667</td>\n",
       "      <td>0.292177</td>\n",
       "      <td>0.0</td>\n",
       "      <td>0.000000</td>\n",
       "      <td>0.000000</td>\n",
       "      <td>0.337272</td>\n",
       "      <td>0.000000</td>\n",
       "      <td>0.000000</td>\n",
       "      <td>0.351406</td>\n",
       "      <td>0.0</td>\n",
       "    </tr>\n",
       "    <tr>\n",
       "      <th>4</th>\n",
       "      <td>0.0</td>\n",
       "      <td>0.000000</td>\n",
       "      <td>0.00000</td>\n",
       "      <td>0.0</td>\n",
       "      <td>0.000000</td>\n",
       "      <td>0.000000</td>\n",
       "      <td>0.0</td>\n",
       "      <td>0.0</td>\n",
       "      <td>0.000000</td>\n",
       "      <td>0.0</td>\n",
       "      <td>0.000000</td>\n",
       "      <td>0.000000</td>\n",
       "      <td>0.0</td>\n",
       "      <td>0.000000</td>\n",
       "      <td>0.000000</td>\n",
       "      <td>0.000000</td>\n",
       "      <td>0.000000</td>\n",
       "      <td>0.000000</td>\n",
       "      <td>0.000000</td>\n",
       "      <td>0.0</td>\n",
       "    </tr>\n",
       "    <tr>\n",
       "      <th>...</th>\n",
       "      <td>...</td>\n",
       "      <td>...</td>\n",
       "      <td>...</td>\n",
       "      <td>...</td>\n",
       "      <td>...</td>\n",
       "      <td>...</td>\n",
       "      <td>...</td>\n",
       "      <td>...</td>\n",
       "      <td>...</td>\n",
       "      <td>...</td>\n",
       "      <td>...</td>\n",
       "      <td>...</td>\n",
       "      <td>...</td>\n",
       "      <td>...</td>\n",
       "      <td>...</td>\n",
       "      <td>...</td>\n",
       "      <td>...</td>\n",
       "      <td>...</td>\n",
       "      <td>...</td>\n",
       "      <td>...</td>\n",
       "    </tr>\n",
       "    <tr>\n",
       "      <th>6250</th>\n",
       "      <td>0.0</td>\n",
       "      <td>0.000000</td>\n",
       "      <td>0.00000</td>\n",
       "      <td>0.0</td>\n",
       "      <td>0.000000</td>\n",
       "      <td>0.000000</td>\n",
       "      <td>0.0</td>\n",
       "      <td>0.0</td>\n",
       "      <td>0.000000</td>\n",
       "      <td>0.0</td>\n",
       "      <td>0.000000</td>\n",
       "      <td>0.000000</td>\n",
       "      <td>0.0</td>\n",
       "      <td>0.000000</td>\n",
       "      <td>0.000000</td>\n",
       "      <td>0.000000</td>\n",
       "      <td>0.000000</td>\n",
       "      <td>0.000000</td>\n",
       "      <td>0.000000</td>\n",
       "      <td>0.0</td>\n",
       "    </tr>\n",
       "    <tr>\n",
       "      <th>6251</th>\n",
       "      <td>0.0</td>\n",
       "      <td>0.000000</td>\n",
       "      <td>0.00000</td>\n",
       "      <td>0.0</td>\n",
       "      <td>0.000000</td>\n",
       "      <td>0.000000</td>\n",
       "      <td>0.0</td>\n",
       "      <td>0.0</td>\n",
       "      <td>0.000000</td>\n",
       "      <td>0.0</td>\n",
       "      <td>0.000000</td>\n",
       "      <td>0.000000</td>\n",
       "      <td>0.0</td>\n",
       "      <td>0.000000</td>\n",
       "      <td>0.000000</td>\n",
       "      <td>0.000000</td>\n",
       "      <td>0.000000</td>\n",
       "      <td>0.000000</td>\n",
       "      <td>1.000000</td>\n",
       "      <td>0.0</td>\n",
       "    </tr>\n",
       "    <tr>\n",
       "      <th>6252</th>\n",
       "      <td>0.0</td>\n",
       "      <td>0.000000</td>\n",
       "      <td>0.00000</td>\n",
       "      <td>0.0</td>\n",
       "      <td>0.000000</td>\n",
       "      <td>0.000000</td>\n",
       "      <td>0.0</td>\n",
       "      <td>0.0</td>\n",
       "      <td>0.000000</td>\n",
       "      <td>0.0</td>\n",
       "      <td>0.000000</td>\n",
       "      <td>0.000000</td>\n",
       "      <td>0.0</td>\n",
       "      <td>0.693384</td>\n",
       "      <td>0.000000</td>\n",
       "      <td>0.000000</td>\n",
       "      <td>0.000000</td>\n",
       "      <td>0.720568</td>\n",
       "      <td>0.000000</td>\n",
       "      <td>0.0</td>\n",
       "    </tr>\n",
       "    <tr>\n",
       "      <th>6253</th>\n",
       "      <td>0.0</td>\n",
       "      <td>0.000000</td>\n",
       "      <td>0.00000</td>\n",
       "      <td>0.0</td>\n",
       "      <td>0.000000</td>\n",
       "      <td>0.000000</td>\n",
       "      <td>0.0</td>\n",
       "      <td>0.0</td>\n",
       "      <td>0.000000</td>\n",
       "      <td>0.0</td>\n",
       "      <td>0.000000</td>\n",
       "      <td>0.000000</td>\n",
       "      <td>0.0</td>\n",
       "      <td>0.000000</td>\n",
       "      <td>0.000000</td>\n",
       "      <td>0.000000</td>\n",
       "      <td>0.000000</td>\n",
       "      <td>0.000000</td>\n",
       "      <td>0.000000</td>\n",
       "      <td>0.0</td>\n",
       "    </tr>\n",
       "    <tr>\n",
       "      <th>6254</th>\n",
       "      <td>0.0</td>\n",
       "      <td>0.000000</td>\n",
       "      <td>0.00000</td>\n",
       "      <td>0.0</td>\n",
       "      <td>0.654263</td>\n",
       "      <td>0.000000</td>\n",
       "      <td>0.0</td>\n",
       "      <td>0.0</td>\n",
       "      <td>0.000000</td>\n",
       "      <td>0.0</td>\n",
       "      <td>0.000000</td>\n",
       "      <td>0.000000</td>\n",
       "      <td>0.0</td>\n",
       "      <td>0.000000</td>\n",
       "      <td>0.608169</td>\n",
       "      <td>0.000000</td>\n",
       "      <td>0.449522</td>\n",
       "      <td>0.000000</td>\n",
       "      <td>0.000000</td>\n",
       "      <td>0.0</td>\n",
       "    </tr>\n",
       "  </tbody>\n",
       "</table>\n",
       "<p>6255 rows × 20 columns</p>\n",
       "</div>"
      ],
      "text/plain": [
       "      app    called   circle  free       get    launch  like  line     major  \\\n",
       "0     0.0  0.000000  0.00000   0.0  0.000000  0.000000   0.0   0.0  0.000000   \n",
       "1     0.0  0.000000  0.00000   0.0  0.000000  0.000000   0.0   0.0  0.000000   \n",
       "2     0.0  0.000000  0.00000   0.0  0.000000  0.000000   0.0   0.0  0.000000   \n",
       "3     0.0  0.391875  0.33707   0.0  0.000000  0.332166   0.0   0.0  0.406734   \n",
       "4     0.0  0.000000  0.00000   0.0  0.000000  0.000000   0.0   0.0  0.000000   \n",
       "...   ...       ...      ...   ...       ...       ...   ...   ...       ...   \n",
       "6250  0.0  0.000000  0.00000   0.0  0.000000  0.000000   0.0   0.0  0.000000   \n",
       "6251  0.0  0.000000  0.00000   0.0  0.000000  0.000000   0.0   0.0  0.000000   \n",
       "6252  0.0  0.000000  0.00000   0.0  0.000000  0.000000   0.0   0.0  0.000000   \n",
       "6253  0.0  0.000000  0.00000   0.0  0.000000  0.000000   0.0   0.0  0.000000   \n",
       "6254  0.0  0.000000  0.00000   0.0  0.654263  0.000000   0.0   0.0  0.000000   \n",
       "\n",
       "      mobile   network       new  one     party       pop    social     store  \\\n",
       "0        0.0  0.000000  0.000000  0.0  0.000000  0.000000  0.000000  1.000000   \n",
       "1        0.0  0.000000  0.000000  0.0  0.000000  0.804172  0.000000  0.594396   \n",
       "2        0.0  0.000000  0.000000  0.0  0.000000  0.000000  0.000000  0.000000   \n",
       "3        0.0  0.366667  0.292177  0.0  0.000000  0.000000  0.337272  0.000000   \n",
       "4        0.0  0.000000  0.000000  0.0  0.000000  0.000000  0.000000  0.000000   \n",
       "...      ...       ...       ...  ...       ...       ...       ...       ...   \n",
       "6250     0.0  0.000000  0.000000  0.0  0.000000  0.000000  0.000000  0.000000   \n",
       "6251     0.0  0.000000  0.000000  0.0  0.000000  0.000000  0.000000  0.000000   \n",
       "6252     0.0  0.000000  0.000000  0.0  0.693384  0.000000  0.000000  0.000000   \n",
       "6253     0.0  0.000000  0.000000  0.0  0.000000  0.000000  0.000000  0.000000   \n",
       "6254     0.0  0.000000  0.000000  0.0  0.000000  0.608169  0.000000  0.449522   \n",
       "\n",
       "          time     today  via  \n",
       "0     0.000000  0.000000  0.0  \n",
       "1     0.000000  0.000000  0.0  \n",
       "2     0.000000  0.000000  0.0  \n",
       "3     0.000000  0.351406  0.0  \n",
       "4     0.000000  0.000000  0.0  \n",
       "...        ...       ...  ...  \n",
       "6250  0.000000  0.000000  0.0  \n",
       "6251  0.000000  1.000000  0.0  \n",
       "6252  0.720568  0.000000  0.0  \n",
       "6253  0.000000  0.000000  0.0  \n",
       "6254  0.000000  0.000000  0.0  \n",
       "\n",
       "[6255 rows x 20 columns]"
      ]
     },
     "execution_count": 325,
     "metadata": {},
     "output_type": "execute_result"
    }
   ],
   "source": [
    "# Vectorize lemmatized text\n",
    "tfidf = TfidfVectorizer(max_features=20)\n",
    "X_train_vectorized_3 = tfidf.fit_transform(X_train_preprocessed[\"final_text\"])\n",
    "pd.DataFrame.sparse.from_spmatrix(X_train_vectorized_3, \n",
    "                                  columns=tfidf.get_feature_names())"
   ]
  },
  {
   "cell_type": "code",
   "execution_count": 326,
   "metadata": {
    "ExecuteTime": {
     "end_time": "2022-09-28T02:14:56.414956Z",
     "start_time": "2022-09-28T02:14:56.352743Z"
    }
   },
   "outputs": [
    {
     "data": {
      "text/plain": [
       "array([0.60991207, 0.60591527, 0.60591527, 0.60671463, 0.60671463])"
      ]
     },
     "execution_count": 326,
     "metadata": {},
     "output_type": "execute_result"
    }
   ],
   "source": [
    "# Evaluate the model based on lemmatized text\n",
    "engineered_cv = cross_val_score(baseline_model, X_train_vectorized_3, y_train)\n",
    "engineered_cv"
   ]
  },
  {
   "cell_type": "code",
   "execution_count": 327,
   "metadata": {
    "ExecuteTime": {
     "end_time": "2022-09-28T02:14:56.538094Z",
     "start_time": "2022-09-28T02:14:56.534660Z"
    }
   },
   "outputs": [
    {
     "name": "stdout",
     "output_type": "stream",
     "text": [
      "Baseline:          0.6028776978417267\n",
      "Stopwords removed: 0.6086330935251799\n",
      "Engineered:        0.6070343725019983\n"
     ]
    }
   ],
   "source": [
    "# Compare scores\n",
    "print(\"Baseline:         \", baseline_cv.mean())\n",
    "print(\"Stopwords removed:\", stopwords_removed_cv.mean())\n",
    "print(\"Engineered:       \", engineered_cv.mean())"
   ]
  },
  {
   "cell_type": "markdown",
   "metadata": {},
   "source": [
    "Our third model is slightly under performing our second model.  Next, we will try including more features to increase our accuracy."
   ]
  },
  {
   "cell_type": "markdown",
   "metadata": {},
   "source": [
    "### Adding Features - Fourth Model"
   ]
  },
  {
   "cell_type": "code",
   "execution_count": 328,
   "metadata": {
    "ExecuteTime": {
     "end_time": "2022-09-28T02:14:57.205380Z",
     "start_time": "2022-09-28T02:14:57.087738Z"
    }
   },
   "outputs": [
    {
     "data": {
      "text/html": [
       "<div>\n",
       "<style scoped>\n",
       "    .dataframe tbody tr th:only-of-type {\n",
       "        vertical-align: middle;\n",
       "    }\n",
       "\n",
       "    .dataframe tbody tr th {\n",
       "        vertical-align: top;\n",
       "    }\n",
       "\n",
       "    .dataframe thead th {\n",
       "        text-align: right;\n",
       "    }\n",
       "</style>\n",
       "<table border=\"1\" class=\"dataframe\">\n",
       "  <thead>\n",
       "    <tr style=\"text-align: right;\">\n",
       "      <th></th>\n",
       "      <th>00</th>\n",
       "      <th>03</th>\n",
       "      <th>10</th>\n",
       "      <th>11</th>\n",
       "      <th>12</th>\n",
       "      <th>20</th>\n",
       "      <th>2011</th>\n",
       "      <th>30</th>\n",
       "      <th>40</th>\n",
       "      <th>59</th>\n",
       "      <th>...</th>\n",
       "      <th>work</th>\n",
       "      <th>working</th>\n",
       "      <th>world</th>\n",
       "      <th>would</th>\n",
       "      <th>wow</th>\n",
       "      <th>year</th>\n",
       "      <th>yes</th>\n",
       "      <th>yet</th>\n",
       "      <th>û_</th>\n",
       "      <th>ûï</th>\n",
       "    </tr>\n",
       "  </thead>\n",
       "  <tbody>\n",
       "    <tr>\n",
       "      <th>0</th>\n",
       "      <td>0.0</td>\n",
       "      <td>0.0</td>\n",
       "      <td>0.0</td>\n",
       "      <td>0.0</td>\n",
       "      <td>0.0</td>\n",
       "      <td>0.0</td>\n",
       "      <td>0.0</td>\n",
       "      <td>0.0</td>\n",
       "      <td>0.0</td>\n",
       "      <td>0.0</td>\n",
       "      <td>...</td>\n",
       "      <td>0.0</td>\n",
       "      <td>0.0</td>\n",
       "      <td>0.0</td>\n",
       "      <td>0.0</td>\n",
       "      <td>0.0</td>\n",
       "      <td>0.0</td>\n",
       "      <td>0.0</td>\n",
       "      <td>0.0</td>\n",
       "      <td>0.0</td>\n",
       "      <td>0.000000</td>\n",
       "    </tr>\n",
       "    <tr>\n",
       "      <th>1</th>\n",
       "      <td>0.0</td>\n",
       "      <td>0.0</td>\n",
       "      <td>0.0</td>\n",
       "      <td>0.0</td>\n",
       "      <td>0.0</td>\n",
       "      <td>0.0</td>\n",
       "      <td>0.0</td>\n",
       "      <td>0.0</td>\n",
       "      <td>0.0</td>\n",
       "      <td>0.0</td>\n",
       "      <td>...</td>\n",
       "      <td>0.0</td>\n",
       "      <td>0.0</td>\n",
       "      <td>0.0</td>\n",
       "      <td>0.0</td>\n",
       "      <td>0.0</td>\n",
       "      <td>0.0</td>\n",
       "      <td>0.0</td>\n",
       "      <td>0.0</td>\n",
       "      <td>0.0</td>\n",
       "      <td>0.000000</td>\n",
       "    </tr>\n",
       "    <tr>\n",
       "      <th>2</th>\n",
       "      <td>0.0</td>\n",
       "      <td>0.0</td>\n",
       "      <td>0.0</td>\n",
       "      <td>0.0</td>\n",
       "      <td>0.0</td>\n",
       "      <td>0.0</td>\n",
       "      <td>0.0</td>\n",
       "      <td>0.0</td>\n",
       "      <td>0.0</td>\n",
       "      <td>0.0</td>\n",
       "      <td>...</td>\n",
       "      <td>0.0</td>\n",
       "      <td>0.0</td>\n",
       "      <td>0.0</td>\n",
       "      <td>0.0</td>\n",
       "      <td>0.0</td>\n",
       "      <td>0.0</td>\n",
       "      <td>0.0</td>\n",
       "      <td>0.0</td>\n",
       "      <td>0.0</td>\n",
       "      <td>0.000000</td>\n",
       "    </tr>\n",
       "    <tr>\n",
       "      <th>3</th>\n",
       "      <td>0.0</td>\n",
       "      <td>0.0</td>\n",
       "      <td>0.0</td>\n",
       "      <td>0.0</td>\n",
       "      <td>0.0</td>\n",
       "      <td>0.0</td>\n",
       "      <td>0.0</td>\n",
       "      <td>0.0</td>\n",
       "      <td>0.0</td>\n",
       "      <td>0.0</td>\n",
       "      <td>...</td>\n",
       "      <td>0.0</td>\n",
       "      <td>0.0</td>\n",
       "      <td>0.0</td>\n",
       "      <td>0.0</td>\n",
       "      <td>0.0</td>\n",
       "      <td>0.0</td>\n",
       "      <td>0.0</td>\n",
       "      <td>0.0</td>\n",
       "      <td>0.0</td>\n",
       "      <td>0.000000</td>\n",
       "    </tr>\n",
       "    <tr>\n",
       "      <th>4</th>\n",
       "      <td>0.0</td>\n",
       "      <td>0.0</td>\n",
       "      <td>0.0</td>\n",
       "      <td>0.0</td>\n",
       "      <td>0.0</td>\n",
       "      <td>0.0</td>\n",
       "      <td>0.0</td>\n",
       "      <td>0.0</td>\n",
       "      <td>0.0</td>\n",
       "      <td>0.0</td>\n",
       "      <td>...</td>\n",
       "      <td>0.0</td>\n",
       "      <td>0.0</td>\n",
       "      <td>0.0</td>\n",
       "      <td>0.0</td>\n",
       "      <td>0.0</td>\n",
       "      <td>0.0</td>\n",
       "      <td>0.0</td>\n",
       "      <td>0.0</td>\n",
       "      <td>0.0</td>\n",
       "      <td>0.000000</td>\n",
       "    </tr>\n",
       "    <tr>\n",
       "      <th>...</th>\n",
       "      <td>...</td>\n",
       "      <td>...</td>\n",
       "      <td>...</td>\n",
       "      <td>...</td>\n",
       "      <td>...</td>\n",
       "      <td>...</td>\n",
       "      <td>...</td>\n",
       "      <td>...</td>\n",
       "      <td>...</td>\n",
       "      <td>...</td>\n",
       "      <td>...</td>\n",
       "      <td>...</td>\n",
       "      <td>...</td>\n",
       "      <td>...</td>\n",
       "      <td>...</td>\n",
       "      <td>...</td>\n",
       "      <td>...</td>\n",
       "      <td>...</td>\n",
       "      <td>...</td>\n",
       "      <td>...</td>\n",
       "      <td>...</td>\n",
       "    </tr>\n",
       "    <tr>\n",
       "      <th>6250</th>\n",
       "      <td>0.0</td>\n",
       "      <td>0.0</td>\n",
       "      <td>0.0</td>\n",
       "      <td>0.0</td>\n",
       "      <td>0.0</td>\n",
       "      <td>0.0</td>\n",
       "      <td>0.0</td>\n",
       "      <td>0.0</td>\n",
       "      <td>0.0</td>\n",
       "      <td>0.0</td>\n",
       "      <td>...</td>\n",
       "      <td>0.0</td>\n",
       "      <td>0.0</td>\n",
       "      <td>0.0</td>\n",
       "      <td>0.0</td>\n",
       "      <td>0.0</td>\n",
       "      <td>0.0</td>\n",
       "      <td>0.0</td>\n",
       "      <td>0.0</td>\n",
       "      <td>0.0</td>\n",
       "      <td>0.000000</td>\n",
       "    </tr>\n",
       "    <tr>\n",
       "      <th>6251</th>\n",
       "      <td>0.0</td>\n",
       "      <td>0.0</td>\n",
       "      <td>0.0</td>\n",
       "      <td>0.0</td>\n",
       "      <td>0.0</td>\n",
       "      <td>0.0</td>\n",
       "      <td>0.0</td>\n",
       "      <td>0.0</td>\n",
       "      <td>0.0</td>\n",
       "      <td>0.0</td>\n",
       "      <td>...</td>\n",
       "      <td>0.0</td>\n",
       "      <td>0.0</td>\n",
       "      <td>0.0</td>\n",
       "      <td>0.0</td>\n",
       "      <td>0.0</td>\n",
       "      <td>0.0</td>\n",
       "      <td>0.0</td>\n",
       "      <td>0.0</td>\n",
       "      <td>0.0</td>\n",
       "      <td>0.000000</td>\n",
       "    </tr>\n",
       "    <tr>\n",
       "      <th>6252</th>\n",
       "      <td>0.0</td>\n",
       "      <td>0.0</td>\n",
       "      <td>0.0</td>\n",
       "      <td>0.0</td>\n",
       "      <td>0.0</td>\n",
       "      <td>0.0</td>\n",
       "      <td>0.0</td>\n",
       "      <td>0.0</td>\n",
       "      <td>0.0</td>\n",
       "      <td>0.0</td>\n",
       "      <td>...</td>\n",
       "      <td>0.0</td>\n",
       "      <td>0.0</td>\n",
       "      <td>0.0</td>\n",
       "      <td>0.0</td>\n",
       "      <td>0.0</td>\n",
       "      <td>0.0</td>\n",
       "      <td>0.0</td>\n",
       "      <td>0.0</td>\n",
       "      <td>0.0</td>\n",
       "      <td>0.440801</td>\n",
       "    </tr>\n",
       "    <tr>\n",
       "      <th>6253</th>\n",
       "      <td>0.0</td>\n",
       "      <td>0.0</td>\n",
       "      <td>0.0</td>\n",
       "      <td>0.0</td>\n",
       "      <td>0.0</td>\n",
       "      <td>0.0</td>\n",
       "      <td>0.0</td>\n",
       "      <td>0.0</td>\n",
       "      <td>0.0</td>\n",
       "      <td>0.0</td>\n",
       "      <td>...</td>\n",
       "      <td>0.0</td>\n",
       "      <td>0.0</td>\n",
       "      <td>0.0</td>\n",
       "      <td>0.0</td>\n",
       "      <td>0.0</td>\n",
       "      <td>0.0</td>\n",
       "      <td>0.0</td>\n",
       "      <td>0.0</td>\n",
       "      <td>0.0</td>\n",
       "      <td>0.000000</td>\n",
       "    </tr>\n",
       "    <tr>\n",
       "      <th>6254</th>\n",
       "      <td>0.0</td>\n",
       "      <td>0.0</td>\n",
       "      <td>0.0</td>\n",
       "      <td>0.0</td>\n",
       "      <td>0.0</td>\n",
       "      <td>0.0</td>\n",
       "      <td>0.0</td>\n",
       "      <td>0.0</td>\n",
       "      <td>0.0</td>\n",
       "      <td>0.0</td>\n",
       "      <td>...</td>\n",
       "      <td>0.0</td>\n",
       "      <td>0.0</td>\n",
       "      <td>0.0</td>\n",
       "      <td>0.0</td>\n",
       "      <td>0.0</td>\n",
       "      <td>0.0</td>\n",
       "      <td>0.0</td>\n",
       "      <td>0.0</td>\n",
       "      <td>0.0</td>\n",
       "      <td>0.000000</td>\n",
       "    </tr>\n",
       "  </tbody>\n",
       "</table>\n",
       "<p>6255 rows × 300 columns</p>\n",
       "</div>"
      ],
      "text/plain": [
       "       00   03   10   11   12   20  2011   30   40   59  ...  work  working  \\\n",
       "0     0.0  0.0  0.0  0.0  0.0  0.0   0.0  0.0  0.0  0.0  ...   0.0      0.0   \n",
       "1     0.0  0.0  0.0  0.0  0.0  0.0   0.0  0.0  0.0  0.0  ...   0.0      0.0   \n",
       "2     0.0  0.0  0.0  0.0  0.0  0.0   0.0  0.0  0.0  0.0  ...   0.0      0.0   \n",
       "3     0.0  0.0  0.0  0.0  0.0  0.0   0.0  0.0  0.0  0.0  ...   0.0      0.0   \n",
       "4     0.0  0.0  0.0  0.0  0.0  0.0   0.0  0.0  0.0  0.0  ...   0.0      0.0   \n",
       "...   ...  ...  ...  ...  ...  ...   ...  ...  ...  ...  ...   ...      ...   \n",
       "6250  0.0  0.0  0.0  0.0  0.0  0.0   0.0  0.0  0.0  0.0  ...   0.0      0.0   \n",
       "6251  0.0  0.0  0.0  0.0  0.0  0.0   0.0  0.0  0.0  0.0  ...   0.0      0.0   \n",
       "6252  0.0  0.0  0.0  0.0  0.0  0.0   0.0  0.0  0.0  0.0  ...   0.0      0.0   \n",
       "6253  0.0  0.0  0.0  0.0  0.0  0.0   0.0  0.0  0.0  0.0  ...   0.0      0.0   \n",
       "6254  0.0  0.0  0.0  0.0  0.0  0.0   0.0  0.0  0.0  0.0  ...   0.0      0.0   \n",
       "\n",
       "      world  would  wow  year  yes  yet   û_        ûï  \n",
       "0       0.0    0.0  0.0   0.0  0.0  0.0  0.0  0.000000  \n",
       "1       0.0    0.0  0.0   0.0  0.0  0.0  0.0  0.000000  \n",
       "2       0.0    0.0  0.0   0.0  0.0  0.0  0.0  0.000000  \n",
       "3       0.0    0.0  0.0   0.0  0.0  0.0  0.0  0.000000  \n",
       "4       0.0    0.0  0.0   0.0  0.0  0.0  0.0  0.000000  \n",
       "...     ...    ...  ...   ...  ...  ...  ...       ...  \n",
       "6250    0.0    0.0  0.0   0.0  0.0  0.0  0.0  0.000000  \n",
       "6251    0.0    0.0  0.0   0.0  0.0  0.0  0.0  0.000000  \n",
       "6252    0.0    0.0  0.0   0.0  0.0  0.0  0.0  0.440801  \n",
       "6253    0.0    0.0  0.0   0.0  0.0  0.0  0.0  0.000000  \n",
       "6254    0.0    0.0  0.0   0.0  0.0  0.0  0.0  0.000000  \n",
       "\n",
       "[6255 rows x 300 columns]"
      ]
     },
     "execution_count": 328,
     "metadata": {},
     "output_type": "execute_result"
    }
   ],
   "source": [
    "# Vectorize lemmatized text with higher max features\n",
    "tfidf = TfidfVectorizer(max_features=300)\n",
    "X_train_vectorized_4 = tfidf.fit_transform(X_train_preprocessed[\"final_text\"])\n",
    "pd.DataFrame.sparse.from_spmatrix(X_train_vectorized_4, \n",
    "                                  columns=tfidf.get_feature_names())"
   ]
  },
  {
   "cell_type": "code",
   "execution_count": 329,
   "metadata": {
    "ExecuteTime": {
     "end_time": "2022-09-28T02:14:57.364762Z",
     "start_time": "2022-09-28T02:14:57.295631Z"
    }
   },
   "outputs": [
    {
     "data": {
      "text/plain": [
       "array([0.64828137, 0.63549161, 0.6498801 , 0.6314948 , 0.63948841])"
      ]
     },
     "execution_count": 329,
     "metadata": {},
     "output_type": "execute_result"
    }
   ],
   "source": [
    "# Evaluate the model with more features\n",
    "features_added_cv = cross_val_score(baseline_model, \n",
    "                                    X_train_vectorized_4, \n",
    "                                    y_train)\n",
    "features_added_cv"
   ]
  },
  {
   "cell_type": "code",
   "execution_count": 330,
   "metadata": {
    "ExecuteTime": {
     "end_time": "2022-09-28T02:14:57.505653Z",
     "start_time": "2022-09-28T02:14:57.501012Z"
    }
   },
   "outputs": [
    {
     "name": "stdout",
     "output_type": "stream",
     "text": [
      "Baseline:          0.6028776978417267\n",
      "Stopwords removed: 0.6086330935251799\n",
      "Engineered:        0.6070343725019983\n",
      "Features Added:    0.6409272581934452\n"
     ]
    }
   ],
   "source": [
    "# Compare model scores\n",
    "print(\"Baseline:         \", baseline_cv.mean())\n",
    "print(\"Stopwords removed:\", stopwords_removed_cv.mean())\n",
    "print(\"Engineered:       \", engineered_cv.mean())\n",
    "print(\"Features Added:   \", features_added_cv.mean())"
   ]
  },
  {
   "cell_type": "markdown",
   "metadata": {},
   "source": [
    "Adding more features has improved our model more than removing stopwords or performing lemmatization."
   ]
  },
  {
   "cell_type": "markdown",
   "metadata": {},
   "source": [
    "# Final Model"
   ]
  },
  {
   "cell_type": "markdown",
   "metadata": {},
   "source": [
    "Fit our final model on the full lemmatized training set."
   ]
  },
  {
   "cell_type": "code",
   "execution_count": 331,
   "metadata": {
    "ExecuteTime": {
     "end_time": "2022-09-28T02:14:58.437184Z",
     "start_time": "2022-09-28T02:14:58.394404Z"
    }
   },
   "outputs": [
    {
     "name": "stdout",
     "output_type": "stream",
     "text": [
      "Final model training score: 0.6641087130295763\n"
     ]
    }
   ],
   "source": [
    "# Fit final model and evaluate training score\n",
    "final_model = MultinomialNB()\n",
    "\n",
    "final_model.fit(X_train_vectorized_4, y_train)\n",
    "print('Final model training score:', final_model.score(X_train_vectorized_4, \n",
    "                                                       y_train))"
   ]
  },
  {
   "cell_type": "code",
   "execution_count": 332,
   "metadata": {
    "ExecuteTime": {
     "end_time": "2022-09-28T02:14:58.678743Z",
     "start_time": "2022-09-28T02:14:58.606138Z"
    }
   },
   "outputs": [],
   "source": [
    "# Vectorize X_test\n",
    "X_test_vectorized = tfidf.transform(X_test[\"text\"])"
   ]
  },
  {
   "cell_type": "code",
   "execution_count": 333,
   "metadata": {
    "ExecuteTime": {
     "end_time": "2022-09-28T02:14:58.827245Z",
     "start_time": "2022-09-28T02:14:58.815892Z"
    }
   },
   "outputs": [
    {
     "name": "stdout",
     "output_type": "stream",
     "text": [
      "Final model test score: 0.6378217083177918\n"
     ]
    }
   ],
   "source": [
    "# Evaluate test score\n",
    "print('Final model test score:', final_model.score(X_test_vectorized, y_test))"
   ]
  },
  {
   "cell_type": "markdown",
   "metadata": {},
   "source": [
    "Plotting a confusion matrix:"
   ]
  },
  {
   "cell_type": "code",
   "execution_count": 334,
   "metadata": {
    "ExecuteTime": {
     "end_time": "2022-09-28T02:14:59.472696Z",
     "start_time": "2022-09-28T02:14:59.323306Z"
    },
    "scrolled": true
   },
   "outputs": [
    {
     "data": {
      "image/png": "[encoded data removed]",
      "text/plain": [
       "<Figure size 432x288 with 2 Axes>"
      ]
     },
     "metadata": {
      "needs_background": "light"
     },
     "output_type": "display_data"
    }
   ],
   "source": [
    "from sklearn.metrics import plot_confusion_matrix\n",
    "plot_confusion_matrix(final_model, \n",
    "                      X_test_vectorized, \n",
    "                      y_test, \n",
    "                      xticks_rotation='vertical',\n",
    "                      normalize='all');"
   ]
  },
  {
   "cell_type": "markdown",
   "metadata": {},
   "source": [
    "Our model is currently not predicting that any tweets are negative.  This is most likely because there were relatively so few negative tweets in our training and test sets.  With so few tweets, our model could not accurately identify them."
   ]
  },
  {
   "cell_type": "markdown",
   "metadata": {},
   "source": [
    "# Text Patterns"
   ]
  },
  {
   "cell_type": "markdown",
   "metadata": {},
   "source": [
    "Before moving on to my recommendations, I thought it would be interesting to create Word Clouds for positive and negative tweets."
   ]
  },
  {
   "cell_type": "code",
   "execution_count": 335,
   "metadata": {
    "ExecuteTime": {
     "end_time": "2022-09-28T02:15:00.768058Z",
     "start_time": "2022-09-28T02:15:00.761823Z"
    }
   },
   "outputs": [],
   "source": [
    "# Create a dataframe with the text and the target\n",
    "train_set = pd.concat([X_train_preprocessed, y_train], axis=1)"
   ]
  },
  {
   "cell_type": "code",
   "execution_count": 336,
   "metadata": {
    "ExecuteTime": {
     "end_time": "2022-09-28T02:15:01.012608Z",
     "start_time": "2022-09-28T02:15:00.997776Z"
    },
    "scrolled": true
   },
   "outputs": [
    {
     "data": {
      "text/html": [
       "<div>\n",
       "<style scoped>\n",
       "    .dataframe tbody tr th:only-of-type {\n",
       "        vertical-align: middle;\n",
       "    }\n",
       "\n",
       "    .dataframe tbody tr th {\n",
       "        vertical-align: top;\n",
       "    }\n",
       "\n",
       "    .dataframe thead th {\n",
       "        text-align: right;\n",
       "    }\n",
       "</style>\n",
       "<table border=\"1\" class=\"dataframe\">\n",
       "  <thead>\n",
       "    <tr style=\"text-align: right;\">\n",
       "      <th></th>\n",
       "      <th>product</th>\n",
       "      <th>final_text</th>\n",
       "      <th>sentiment</th>\n",
       "    </tr>\n",
       "  </thead>\n",
       "  <tbody>\n",
       "    <tr>\n",
       "      <th>298</th>\n",
       "      <td>Apple</td>\n",
       "      <td>temporary store open 6th congress tomorrow</td>\n",
       "      <td>No emotion toward brand or product</td>\n",
       "    </tr>\n",
       "    <tr>\n",
       "      <th>4176</th>\n",
       "      <td>Apple</td>\n",
       "      <td>delivery pop store quite possible</td>\n",
       "      <td>Positive emotion</td>\n",
       "    </tr>\n",
       "    <tr>\n",
       "      <th>882</th>\n",
       "      <td>Apple</td>\n",
       "      <td>think might go weekend without seeing case twice</td>\n",
       "      <td>Positive emotion</td>\n",
       "    </tr>\n",
       "    <tr>\n",
       "      <th>776</th>\n",
       "      <td>Google</td>\n",
       "      <td>launch major new social network called circle ...</td>\n",
       "      <td>Positive emotion</td>\n",
       "    </tr>\n",
       "    <tr>\n",
       "      <th>622</th>\n",
       "      <td>Google</td>\n",
       "      <td>host developer day</td>\n",
       "      <td>No emotion toward brand or product</td>\n",
       "    </tr>\n",
       "  </tbody>\n",
       "</table>\n",
       "</div>"
      ],
      "text/plain": [
       "     product                                         final_text  \\\n",
       "298    Apple         temporary store open 6th congress tomorrow   \n",
       "4176   Apple                  delivery pop store quite possible   \n",
       "882    Apple   think might go weekend without seeing case twice   \n",
       "776   Google  launch major new social network called circle ...   \n",
       "622   Google                                 host developer day   \n",
       "\n",
       "                               sentiment  \n",
       "298   No emotion toward brand or product  \n",
       "4176                    Positive emotion  \n",
       "882                     Positive emotion  \n",
       "776                     Positive emotion  \n",
       "622   No emotion toward brand or product  "
      ]
     },
     "execution_count": 336,
     "metadata": {},
     "output_type": "execute_result"
    }
   ],
   "source": [
    "train_set.head()"
   ]
  },
  {
   "cell_type": "code",
   "execution_count": 337,
   "metadata": {
    "ExecuteTime": {
     "end_time": "2022-09-28T02:15:01.172403Z",
     "start_time": "2022-09-28T02:15:01.164031Z"
    }
   },
   "outputs": [],
   "source": [
    "# Create a corpus of the positive tweets\n",
    "positive_text = train_set['final_text'].loc[train_set['sentiment']=='Positive emotion'].tolist()\n",
    "positive_text = ' '.join(positive_text)"
   ]
  },
  {
   "cell_type": "code",
   "execution_count": 338,
   "metadata": {
    "ExecuteTime": {
     "end_time": "2022-09-28T02:15:01.723926Z",
     "start_time": "2022-09-28T02:15:01.428980Z"
    }
   },
   "outputs": [
    {
     "data": {
      "image/png": "[encoded data removed]",
      "text/plain": [
       "<Figure size 432x288 with 1 Axes>"
      ]
     },
     "metadata": {
      "needs_background": "light"
     },
     "output_type": "display_data"
    }
   ],
   "source": [
    "# Generate a word cloud image\n",
    "wordcloud = WordCloud(width=500, \n",
    "                      height=300, \n",
    "                      collocations=False,\n",
    "                      background_color='white',\n",
    "                      max_font_size=70).generate(positive_text)\n",
    "\n",
    "import matplotlib.pyplot as plt\n",
    "plt.imshow(wordcloud, interpolation='bilinear')\n",
    "plt.axis(\"off\");"
   ]
  },
  {
   "cell_type": "code",
   "execution_count": 339,
   "metadata": {
    "ExecuteTime": {
     "end_time": "2022-09-28T02:15:01.727448Z",
     "start_time": "2022-09-28T02:15:01.724946Z"
    }
   },
   "outputs": [],
   "source": [
    "# Create a corpus of the negative tweets\n",
    "negative_text = train_set['final_text'].loc[train_set['sentiment']=='Negative emotion'].tolist()\n",
    "negative_text = ' '.join(negative_text)"
   ]
  },
  {
   "cell_type": "code",
   "execution_count": 340,
   "metadata": {
    "ExecuteTime": {
     "end_time": "2022-09-28T02:15:02.277057Z",
     "start_time": "2022-09-28T02:15:02.005544Z"
    }
   },
   "outputs": [
    {
     "data": {
      "image/png": "[encoded data removed]",
      "text/plain": [
       "<Figure size 432x288 with 1 Axes>"
      ]
     },
     "metadata": {
      "needs_background": "light"
     },
     "output_type": "display_data"
    }
   ],
   "source": [
    "# Generate a word cloud image\n",
    "wordcloud_2 = WordCloud(width=500,\n",
    "                      height=300,\n",
    "                      collocations=False,\n",
    "                      max_font_size=70).generate(negative_text)\n",
    "\n",
    "import matplotlib.pyplot as plt\n",
    "plt.imshow(wordcloud_2, interpolation='bilinear')\n",
    "plt.axis(\"off\");"
   ]
  },
  {
   "cell_type": "markdown",
   "metadata": {},
   "source": [
    "Many of the highest recurring words in both the positive and negative categories are the same: 'app', 'store', 'new', 'launch', 'line'.  This could be why our model is not performing at a level that we would prefer."
   ]
  },
  {
   "cell_type": "markdown",
   "metadata": {},
   "source": [
    "Looking closely, there are some words that I would expect to see in each word cloud.  For example, 'great', 'awesome', and 'cool' in the positive word cloud and 'fail', 'headache', and 'fascist' in the negative word cloud."
   ]
  },
  {
   "cell_type": "markdown",
   "metadata": {},
   "source": [
    "# Conclusion and Recommendations"
   ]
  },
  {
   "cell_type": "markdown",
   "metadata": {},
   "source": [
    "## Conclusion"
   ]
  },
  {
   "cell_type": "markdown",
   "metadata": {},
   "source": [
    "After our natural language processing, our model is only performing at 64% on our testing set.  This is only slightly higher (4%) than if we were to assign all the tweets as 'No Emotion'.  \n",
    "\n",
    "Although we would prefer a model that performs at a higher level, we were constricted by the dataset.  The dataset our model trained on included a much higher level of 'No Emotion' (60.2%) tweets than 'Positive' or 'Negative' tweets combined (39.8%)."
   ]
  },
  {
   "cell_type": "markdown",
   "metadata": {},
   "source": [
    "## Recommendations"
   ]
  },
  {
   "cell_type": "markdown",
   "metadata": {},
   "source": [
    "My main recommendation to South by Southwest would be to collect more tweets that are identified as positive or negative.  By increasing the number of tweets our model trains on, it would have the information it needs to become more accurate.\n",
    "\n",
    "Additionally, identifying and removing more SXSW specific stopwords could distill our tokens to words that have a semantic value.\n",
    "\n",
    "Finally, after completing these steps, I would recommend continuing to use the Multinomial Naive Bayes model with lemmatization to make predictions on future tweets."
   ]
  },
  {
   "cell_type": "markdown",
   "metadata": {},
   "source": [
    "# Next Steps"
   ]
  },
  {
   "cell_type": "markdown",
   "metadata": {},
   "source": [
    "**Exploring sentiments for specific products**"
   ]
  },
  {
   "cell_type": "markdown",
   "metadata": {},
   "source": [
    "Diving into which products are tweeted about favorably vs which ones are getting negative attention.  This could help SXSW know which vendors are worth inviting/promoting."
   ]
  },
  {
   "cell_type": "markdown",
   "metadata": {},
   "source": [
    "**Part of speech tagging for accurate lemmatization.**"
   ]
  },
  {
   "cell_type": "markdown",
   "metadata": {},
   "source": [
    "Currently, our lemmatization is only functioning for nouns, not for verbs (ex: 'calling' is not lemmatized to 'call').  By instituting part of speech tagging to identify verbs and then lemmatize them could help our model's performance."
   ]
  },
  {
   "cell_type": "code",
   "execution_count": null,
   "metadata": {},
   "outputs": [],
   "source": []
  }
 ],
 "metadata": {
  "kernelspec": {
   "display_name": "Python 3",
   "language": "python",
   "name": "python3"
  },
  "language_info": {
   "codemirror_mode": {
    "name": "ipython",
    "version": 3
   },
   "file_extension": ".py",
   "mimetype": "text/x-python",
   "name": "python",
   "nbconvert_exporter": "python",
   "pygments_lexer": "ipython3",
   "version": "3.8.5"
  },
  "toc": {
   "base_numbering": 1,
   "nav_menu": {},
   "number_sections": true,
   "sideBar": true,
   "skip_h1_title": false,
   "title_cell": "Table of Contents",
   "title_sidebar": "Contents",
   "toc_cell": false,
   "toc_position": {},
   "toc_section_display": true,
   "toc_window_display": true
  }
 },
 "nbformat": 4,
 "nbformat_minor": 4
}
